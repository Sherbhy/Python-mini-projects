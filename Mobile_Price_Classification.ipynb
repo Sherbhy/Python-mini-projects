{
  "nbformat": 4,
  "nbformat_minor": 0,
  "metadata": {
    "colab": {
      "name": "Mobile Price Classification.ipynb",
      "version": "0.3.2",
      "provenance": [],
      "collapsed_sections": [],
      "include_colab_link": true
    },
    "kernelspec": {
      "name": "python3",
      "display_name": "Python 3"
    }
  },
  "cells": [
    {
      "cell_type": "markdown",
      "metadata": {
        "id": "view-in-github",
        "colab_type": "text"
      },
      "source": [
        "[View in Colaboratory](https://colab.research.google.com/github/Sherbhy/Python-mini-projects/blob/master/Mobile_Price_Classification.ipynb)"
      ]
    },
    {
      "metadata": {
        "id": "NNcNwoHNFP8q",
        "colab_type": "code",
        "colab": {
          "resources": {
            "http://localhost:8080/nbextensions/google.colab/files.js": {
              "data": "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",
              "ok": true,
              "headers": [
                [
                  "content-type",
                  "application/javascript"
                ]
              ],
              "status": 200,
              "status_text": ""
            }
          },
          "base_uri": "https://localhost:8080/",
          "height": 74
        },
        "outputId": "f554fe5c-a535-4189-baec-749f81e2b9a2"
      },
      "cell_type": "code",
      "source": [
        "uploaded = files.upload()"
      ],
      "execution_count": 12,
      "outputs": [
        {
          "output_type": "display_data",
          "data": {
            "text/html": [
              "\n",
              "     <input type=\"file\" id=\"files-f6ef92ea-8a06-470e-9430-23a5e69aa574\" name=\"files[]\" multiple disabled />\n",
              "     <output id=\"result-f6ef92ea-8a06-470e-9430-23a5e69aa574\">\n",
              "      Upload widget is only available when the cell has been executed in the\n",
              "      current browser session. Please rerun this cell to enable.\n",
              "      </output>\n",
              "      <script src=\"/nbextensions/google.colab/files.js\"></script> "
            ],
            "text/plain": [
              "<IPython.core.display.HTML object>"
            ]
          },
          "metadata": {
            "tags": []
          }
        },
        {
          "output_type": "stream",
          "text": [
            "Saving train.csv to train.csv\n"
          ],
          "name": "stdout"
        }
      ]
    },
    {
      "metadata": {
        "id": "a58Uu_i4GfXj",
        "colab_type": "code",
        "colab": {},
        "cellView": "code"
      },
      "cell_type": "code",
      "source": [
        "#@title Default title text\n",
        "from google.colab import files\n",
        "import pandas as pd"
      ],
      "execution_count": 0,
      "outputs": []
    },
    {
      "metadata": {
        "id": "T6GcpfYEHcSp",
        "colab_type": "code",
        "colab": {
          "base_uri": "https://localhost:8080/",
          "height": 34
        },
        "outputId": "1a0e0ad4-de7a-4004-c6b9-3b5cd2789a39"
      },
      "cell_type": "code",
      "source": [
        "for fn in uploaded.keys():\n",
        "  print('User uploaded file \"{name}\" with length {length} bytes'.format(\n",
        "      name=fn, length=len(uploaded[fn])))"
      ],
      "execution_count": 13,
      "outputs": [
        {
          "output_type": "stream",
          "text": [
            "User uploaded file \"train.csv\" with length 122403 bytes\n"
          ],
          "name": "stdout"
        }
      ]
    },
    {
      "metadata": {
        "id": "ahUtQWxKOtYc",
        "colab_type": "code",
        "colab": {}
      },
      "cell_type": "code",
      "source": [
        "import matplotlib.pyplot as plt\n",
        "import numpy as np\n",
        "import seaborn as sns\n",
        "from pandas import Series, DataFrame\n",
        "from sklearn import datasets, svm, tree\n",
        "from sklearn.preprocessing import StandardScaler\n",
        "from sklearn.manifold import TSNE\n",
        "from sklearn.model_selection import train_test_split, GridSearchCV\n",
        "from sklearn.metrics import classification_report,confusion_matrix"
      ],
      "execution_count": 0,
      "outputs": []
    },
    {
      "metadata": {
        "id": "_XCfzPfAOvYQ",
        "colab_type": "code",
        "colab": {}
      },
      "cell_type": "code",
      "source": [
        "df = pd.read_csv('train.csv')\n",
        "num_rows = df.shape[0]\n",
        "y = df['price_range']\n",
        "del df['price_range']"
      ],
      "execution_count": 0,
      "outputs": []
    },
    {
      "metadata": {
        "id": "yiX4aAiQO0Of",
        "colab_type": "code",
        "colab": {}
      },
      "cell_type": "code",
      "source": [
        "x = df.ix[:,:-1].values\n",
        "standard_scaler = StandardScaler()\n",
        "x_std = standard_scaler.fit_transform(x)"
      ],
      "execution_count": 0,
      "outputs": []
    },
    {
      "metadata": {
        "id": "TOnYBdcFO4f5",
        "colab_type": "code",
        "colab": {}
      },
      "cell_type": "code",
      "source": [
        "X_train, X_test, y_train, y_test = train_test_split(x_std,y, test_size=0.2)"
      ],
      "execution_count": 0,
      "outputs": []
    },
    {
      "metadata": {
        "id": "LntzdvYbO-0b",
        "colab_type": "code",
        "colab": {}
      },
      "cell_type": "code",
      "source": [
        "#Classifier\n",
        "svc = svm.SVC()\n",
        "parameters = {'kernel':('linear','rbf'), 'C':[1,10]}\n",
        "clf=GridSearchCV(svc,parameters)\n",
        "model = clf.fit(X_train,y_train)"
      ],
      "execution_count": 0,
      "outputs": []
    },
    {
      "metadata": {
        "id": "P7ke25enPAYY",
        "colab_type": "code",
        "colab": {
          "base_uri": "https://localhost:8080/",
          "height": 378
        },
        "outputId": "61ea5014-085c-44df-de43-f7b43ea8eea6"
      },
      "cell_type": "code",
      "source": [
        "pred=clf.predict(X_test)\n",
        "plt.scatter(y_test, pred)\n",
        "plt.xlabel(\"True Values\")\n",
        "plt.ylabel(\"Predictions\")\n",
        "print (\"Score:\", model.score(X_test, y_test))"
      ],
      "execution_count": 158,
      "outputs": [
        {
          "output_type": "stream",
          "text": [
            "Score: 0.97\n"
          ],
          "name": "stdout"
        },
        {
          "output_type": "display_data",
          "data": {
            "image/png": "[encoded data removed]",
            "text/plain": [
              "<matplotlib.figure.Figure at 0x7fb50a588828>"
            ]
          },
          "metadata": {
            "tags": []
          }
        }
      ]
    },
    {
      "metadata": {
        "id": "aH5NezkMYuoI",
        "colab_type": "code",
        "colab": {
          "base_uri": "https://localhost:8080/",
          "height": 195
        },
        "outputId": "61792b6f-dbe4-4f73-8e6b-a95f7b9ccbb4"
      },
      "cell_type": "code",
      "source": [
        "df.head()"
      ],
      "execution_count": 159,
      "outputs": [
        {
          "output_type": "execute_result",
          "data": {
            "text/html": [
              "<div>\n",
              "<style scoped>\n",
              "    .dataframe tbody tr th:only-of-type {\n",
              "        vertical-align: middle;\n",
              "    }\n",
              "\n",
              "    .dataframe tbody tr th {\n",
              "        vertical-align: top;\n",
              "    }\n",
              "\n",
              "    .dataframe thead th {\n",
              "        text-align: right;\n",
              "    }\n",
              "</style>\n",
              "<table border=\"1\" class=\"dataframe\">\n",
              "  <thead>\n",
              "    <tr style=\"text-align: right;\">\n",
              "      <th></th>\n",
              "      <th>battery_power</th>\n",
              "      <th>blue</th>\n",
              "      <th>clock_speed</th>\n",
              "      <th>dual_sim</th>\n",
              "      <th>fc</th>\n",
              "      <th>four_g</th>\n",
              "      <th>int_memory</th>\n",
              "      <th>m_dep</th>\n",
              "      <th>mobile_wt</th>\n",
              "      <th>n_cores</th>\n",
              "      <th>pc</th>\n",
              "      <th>px_height</th>\n",
              "      <th>px_width</th>\n",
              "      <th>ram</th>\n",
              "      <th>sc_h</th>\n",
              "      <th>sc_w</th>\n",
              "      <th>talk_time</th>\n",
              "      <th>three_g</th>\n",
              "      <th>touch_screen</th>\n",
              "      <th>wifi</th>\n",
              "    </tr>\n",
              "  </thead>\n",
              "  <tbody>\n",
              "    <tr>\n",
              "      <th>0</th>\n",
              "      <td>842</td>\n",
              "      <td>0</td>\n",
              "      <td>2.2</td>\n",
              "      <td>0</td>\n",
              "      <td>1</td>\n",
              "      <td>0</td>\n",
              "      <td>7</td>\n",
              "      <td>0.6</td>\n",
              "      <td>188</td>\n",
              "      <td>2</td>\n",
              "      <td>2</td>\n",
              "      <td>20</td>\n",
              "      <td>756</td>\n",
              "      <td>2549</td>\n",
              "      <td>9</td>\n",
              "      <td>7</td>\n",
              "      <td>19</td>\n",
              "      <td>0</td>\n",
              "      <td>0</td>\n",
              "      <td>1</td>\n",
              "    </tr>\n",
              "    <tr>\n",
              "      <th>1</th>\n",
              "      <td>1021</td>\n",
              "      <td>1</td>\n",
              "      <td>0.5</td>\n",
              "      <td>1</td>\n",
              "      <td>0</td>\n",
              "      <td>1</td>\n",
              "      <td>53</td>\n",
              "      <td>0.7</td>\n",
              "      <td>136</td>\n",
              "      <td>3</td>\n",
              "      <td>6</td>\n",
              "      <td>905</td>\n",
              "      <td>1988</td>\n",
              "      <td>2631</td>\n",
              "      <td>17</td>\n",
              "      <td>3</td>\n",
              "      <td>7</td>\n",
              "      <td>1</td>\n",
              "      <td>1</td>\n",
              "      <td>0</td>\n",
              "    </tr>\n",
              "    <tr>\n",
              "      <th>2</th>\n",
              "      <td>563</td>\n",
              "      <td>1</td>\n",
              "      <td>0.5</td>\n",
              "      <td>1</td>\n",
              "      <td>2</td>\n",
              "      <td>1</td>\n",
              "      <td>41</td>\n",
              "      <td>0.9</td>\n",
              "      <td>145</td>\n",
              "      <td>5</td>\n",
              "      <td>6</td>\n",
              "      <td>1263</td>\n",
              "      <td>1716</td>\n",
              "      <td>2603</td>\n",
              "      <td>11</td>\n",
              "      <td>2</td>\n",
              "      <td>9</td>\n",
              "      <td>1</td>\n",
              "      <td>1</td>\n",
              "      <td>0</td>\n",
              "    </tr>\n",
              "    <tr>\n",
              "      <th>3</th>\n",
              "      <td>615</td>\n",
              "      <td>1</td>\n",
              "      <td>2.5</td>\n",
              "      <td>0</td>\n",
              "      <td>0</td>\n",
              "      <td>0</td>\n",
              "      <td>10</td>\n",
              "      <td>0.8</td>\n",
              "      <td>131</td>\n",
              "      <td>6</td>\n",
              "      <td>9</td>\n",
              "      <td>1216</td>\n",
              "      <td>1786</td>\n",
              "      <td>2769</td>\n",
              "      <td>16</td>\n",
              "      <td>8</td>\n",
              "      <td>11</td>\n",
              "      <td>1</td>\n",
              "      <td>0</td>\n",
              "      <td>0</td>\n",
              "    </tr>\n",
              "    <tr>\n",
              "      <th>4</th>\n",
              "      <td>1821</td>\n",
              "      <td>1</td>\n",
              "      <td>1.2</td>\n",
              "      <td>0</td>\n",
              "      <td>13</td>\n",
              "      <td>1</td>\n",
              "      <td>44</td>\n",
              "      <td>0.6</td>\n",
              "      <td>141</td>\n",
              "      <td>2</td>\n",
              "      <td>14</td>\n",
              "      <td>1208</td>\n",
              "      <td>1212</td>\n",
              "      <td>1411</td>\n",
              "      <td>8</td>\n",
              "      <td>2</td>\n",
              "      <td>15</td>\n",
              "      <td>1</td>\n",
              "      <td>1</td>\n",
              "      <td>0</td>\n",
              "    </tr>\n",
              "  </tbody>\n",
              "</table>\n",
              "</div>"
            ],
            "text/plain": [
              "   battery_power  blue  clock_speed  dual_sim  fc  four_g  int_memory  m_dep  \\\n",
              "0            842     0          2.2         0   1       0           7    0.6   \n",
              "1           1021     1          0.5         1   0       1          53    0.7   \n",
              "2            563     1          0.5         1   2       1          41    0.9   \n",
              "3            615     1          2.5         0   0       0          10    0.8   \n",
              "4           1821     1          1.2         0  13       1          44    0.6   \n",
              "\n",
              "   mobile_wt  n_cores  pc  px_height  px_width   ram  sc_h  sc_w  talk_time  \\\n",
              "0        188        2   2         20       756  2549     9     7         19   \n",
              "1        136        3   6        905      1988  2631    17     3          7   \n",
              "2        145        5   6       1263      1716  2603    11     2          9   \n",
              "3        131        6   9       1216      1786  2769    16     8         11   \n",
              "4        141        2  14       1208      1212  1411     8     2         15   \n",
              "\n",
              "   three_g  touch_screen  wifi  \n",
              "0        0             0     1  \n",
              "1        1             1     0  \n",
              "2        1             1     0  \n",
              "3        1             0     0  \n",
              "4        1             1     0  "
            ]
          },
          "metadata": {
            "tags": []
          },
          "execution_count": 159
        }
      ]
    },
    {
      "metadata": {
        "id": "VvpNFR4APbKB",
        "colab_type": "code",
        "colab": {
          "resources": {
            "http://localhost:8080/nbextensions/google.colab/files.js": {
              "data": "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",
              "ok": true,
              "headers": [
                [
                  "content-type",
                  "application/javascript"
                ]
              ],
              "status": 200,
              "status_text": ""
            }
          },
          "base_uri": "https://localhost:8080/",
          "height": 111
        },
        "outputId": "290c31e9-8cc4-459f-fe74-b42de839b40d"
      },
      "cell_type": "code",
      "source": [
        "files.upload()"
      ],
      "execution_count": 160,
      "outputs": [
        {
          "output_type": "display_data",
          "data": {
            "text/html": [
              "\n",
              "     <input type=\"file\" id=\"files-4624bb2f-143e-4b13-b554-b057016665d5\" name=\"files[]\" multiple disabled />\n",
              "     <output id=\"result-4624bb2f-143e-4b13-b554-b057016665d5\">\n",
              "      Upload widget is only available when the cell has been executed in the\n",
              "      current browser session. Please rerun this cell to enable.\n",
              "      </output>\n",
              "      <script src=\"/nbextensions/google.colab/files.js\"></script> "
            ],
            "text/plain": [
              "<IPython.core.display.HTML object>"
            ]
          },
          "metadata": {
            "tags": []
          }
        },
        {
          "output_type": "stream",
          "text": [
            "Saving test.csv to test (3).csv\n"
          ],
          "name": "stdout"
        },
        {
          "output_type": "execute_result",
          "data": {
            "text/plain": [
              "{'test.csv': b'id,battery_power,blue,clock_speed,dual_sim,fc,four_g,int_memory,m_dep,mobile_wt,n_cores,pc,px_height,px_width,ram,sc_h,sc_w,talk_time,three_g,touch_screen,wifi\\r\\n1,1043,1,1.8,1,14,0,5,0.1,193,3,16,226,1412,3476,12,7,2,0,1,0\\r\\n2,841,1,0.5,1,4,1,61,0.8,191,5,12,746,857,3895,6,0,7,1,0,0\\r\\n3,1807,1,2.8,0,1,0,27,0.9,186,3,4,1270,1366,2396,17,10,10,0,1,1\\r\\n4,1546,0,0.5,1,18,1,25,0.5,96,8,20,295,1752,3893,10,0,7,1,1,0\\r\\n5,1434,0,1.4,0,11,1,49,0.5,108,6,18,749,810,1773,15,8,7,1,0,1\\r\\n6,1464,1,2.9,1,5,1,50,0.8,198,8,9,569,939,3506,10,7,3,1,1,1\\r\\n7,1718,0,2.4,0,1,0,47,1,156,2,3,1283,1374,3873,14,2,10,0,0,0\\r\\n8,833,0,2.4,1,0,0,62,0.8,111,1,2,1312,1880,1495,7,2,18,0,1,1\\r\\n9,1111,1,2.9,1,9,1,25,0.6,101,5,19,556,876,3485,11,9,10,1,1,0\\r\\n10,1520,0,0.5,0,1,0,25,0.5,171,3,20,52,1009,651,6,0,5,1,0,1\\r\\n11,1500,0,2.2,0,2,0,55,0.6,80,7,6,503,1336,3866,13,7,20,0,1,0\\r\\n12,1343,0,2.9,0,2,1,34,0.8,171,3,6,235,1671,3911,15,8,8,1,1,1\\r\\n13,900,1,1.4,1,0,0,30,1,87,2,3,829,1893,439,6,2,20,1,0,0\\r\\n14,1190,1,2.2,1,5,0,19,0.9,158,5,15,227,1856,992,13,0,16,1,1,0\\r\\n15,630,0,1.8,0,8,1,51,0.9,193,8,9,1315,1323,2751,17,6,3,1,1,0\\r\\n16,1846,1,1,0,5,1,53,0.7,106,8,7,185,1832,563,9,5,10,1,0,1\\r\\n17,1985,0,0.5,1,14,1,26,1,163,2,17,613,1511,2083,13,3,14,1,1,0\\r\\n18,1042,0,2.9,0,5,1,48,0.2,186,4,15,335,532,2187,9,2,5,1,0,0\\r\\n19,1231,1,1.7,1,2,1,37,0.2,194,2,3,82,1771,3902,19,12,15,1,0,1\\r\\n20,1488,0,2.6,0,9,0,37,0.7,189,4,20,47,559,2524,5,0,6,0,0,0\\r\\n21,968,0,0.6,0,8,1,7,0.7,151,1,17,504,1930,1357,15,1,16,1,1,0\\r\\n22,529,0,2.6,1,1,0,60,0.5,101,5,5,521,1591,3456,13,11,9,0,1,0\\r\\n23,1558,0,1.7,1,7,0,50,0.1,115,2,10,777,1587,1641,17,0,9,0,1,1\\r\\n24,533,1,0.7,1,16,0,58,0.8,97,5,18,512,1111,2322,17,3,2,0,1,0\\r\\n25,1037,0,1.7,1,1,0,5,0.7,125,3,6,1194,1321,3862,17,4,7,1,1,0\\r\\n26,1025,0,1.6,1,6,1,43,0.7,122,3,16,1003,1306,557,15,10,14,1,1,1\\r\\n27,1858,0,3,1,0,0,17,0.6,124,4,1,575,1200,2427,16,11,13,1,1,0\\r\\n28,980,0,0.5,0,1,0,8,0.1,91,5,5,54,658,625,17,3,7,0,1,1\\r\\n29,644,1,0.5,1,9,0,15,0.2,139,5,10,627,630,3836,10,9,10,1,0,1\\r\\n30,1024,1,1.6,1,0,1,38,0.8,81,2,0,129,1048,854,11,3,10,1,0,0\\r\\n31,1981,0,2.9,1,2,1,11,0.3,184,8,13,876,1408,2383,11,2,18,1,0,0\\r\\n32,1380,0,2.6,1,15,1,56,0.5,187,8,16,501,643,926,9,5,7,1,0,0\\r\\n33,1557,1,1.7,1,1,0,32,0.3,152,7,11,1407,1633,3048,17,11,7,1,0,0\\r\\n34,1201,1,2.2,1,10,0,49,0.8,175,4,20,722,992,824,18,13,9,1,0,0\\r\\n35,1074,1,1.2,0,0,0,45,0.8,193,3,6,1219,1904,874,11,7,2,1,0,0\\r\\n36,1175,1,2.1,0,3,0,33,0.9,124,6,8,119,1777,1617,5,3,7,0,0,1\\r\\n37,1280,0,0.9,1,4,1,8,0.6,96,6,5,753,1557,3309,17,16,8,1,0,1\\r\\n38,1715,0,0.6,1,1,1,28,0.4,112,6,16,162,847,1786,19,2,12,1,0,1\\r\\n39,1165,0,0.9,0,4,0,40,0.9,150,2,11,313,528,3128,13,0,14,1,0,0\\r\\n40,567,0,2.6,0,0,0,2,0.2,87,4,1,181,566,2243,16,6,10,0,1,1\\r\\n41,1952,1,1.4,0,2,0,47,0.8,190,2,10,1416,1892,994,9,5,17,0,1,1\\r\\n42,822,1,1.4,1,2,0,43,0.3,189,8,7,645,851,2749,13,4,16,1,0,1\\r\\n43,685,1,0.5,1,0,0,12,0.5,121,6,15,79,633,793,5,4,11,0,0,1\\r\\n44,1388,1,0.6,1,12,1,17,0.6,174,5,19,153,972,324,14,0,3,1,0,0\\r\\n45,1972,0,2.1,0,2,0,48,0.6,188,3,14,480,748,366,5,3,17,1,1,0\\r\\n46,1411,1,1.7,0,9,1,57,0.5,80,7,17,700,1234,1228,17,3,7,1,1,0\\r\\n47,1094,0,2.3,1,2,0,20,0.9,135,1,5,221,610,1413,7,0,16,0,1,1\\r\\n48,1653,0,0.7,1,1,1,13,0.5,114,4,15,1585,1896,2617,16,4,18,1,1,1\\r\\n49,916,0,2,1,9,0,33,0.7,142,7,20,65,1867,1798,11,5,5,1,1,0\\r\\n50,1712,0,0.8,0,1,0,29,0.3,149,7,6,556,816,2693,7,1,5,1,1,0\\r\\n51,882,1,0.9,1,13,0,32,0.8,103,8,14,224,764,2437,17,14,15,0,1,1\\r\\n52,632,0,1.2,0,6,1,33,0.5,101,2,10,705,992,837,16,4,3,1,0,0\\r\\n53,1442,1,0.5,1,0,0,56,0.4,165,3,3,709,1695,2815,6,0,8,0,1,1\\r\\n54,900,0,1.9,0,11,0,47,0.2,150,8,14,97,663,1440,14,2,4,1,1,1\\r\\n55,1630,1,0.6,1,4,0,20,0.9,153,7,10,1131,1360,3470,17,6,4,1,1,0\\r\\n56,1596,1,1.4,1,6,0,24,0.3,174,5,15,359,1022,1251,18,15,2,1,1,1\\r\\n57,1272,1,0.5,0,9,1,54,0.6,133,8,11,1813,1871,3181,10,6,14,1,0,1\\r\\n58,1640,0,2.5,1,1,0,7,0.2,135,4,2,839,1788,1361,9,1,7,0,1,1\\r\\n59,1111,0,1.4,1,10,0,15,0.5,198,7,14,550,666,1630,13,5,2,1,0,1\\r\\n60,1889,1,2.9,0,15,0,25,0.3,90,2,17,443,755,3689,9,6,2,1,0,1\\r\\n61,1907,1,1.1,1,1,0,22,0.1,80,8,4,502,1113,3586,11,2,6,1,0,1\\r\\n62,529,0,2.5,1,5,0,56,0.3,139,4,6,130,647,3942,10,0,7,0,0,1\\r\\n63,578,0,0.5,0,3,1,38,0.7,121,6,5,19,667,1431,5,0,7,1,0,0\\r\\n64,1634,1,2.3,1,2,1,39,0.4,164,1,7,386,636,2167,12,0,20,1,1,1\\r\\n65,1533,1,1.2,1,1,1,22,0.6,172,3,15,22,1345,1248,9,2,9,1,0,0\\r\\n66,660,0,0.6,0,5,1,47,0.1,83,3,6,49,1552,1986,8,0,15,1,1,0\\r\\n67,1847,1,1.6,0,10,1,28,0.2,111,4,14,1497,1508,1378,5,2,18,1,0,1\\r\\n68,1206,1,0.5,1,6,0,10,0.8,134,8,20,1327,1361,2959,5,1,20,0,0,1\\r\\n69,549,1,0.5,0,3,1,53,0.8,173,5,5,555,1386,1893,5,2,19,1,1,1\\r\\n70,1705,1,2.8,0,2,1,23,1,122,3,20,1560,1808,1676,8,6,20,1,1,1\\r\\n71,1366,0,0.5,1,4,0,36,0.1,185,1,16,346,702,1912,17,13,19,0,0,1\\r\\n72,1991,0,0.5,0,5,0,58,0.6,109,5,6,912,1660,1947,10,5,7,1,0,1\\r\\n73,1102,1,1.2,0,5,1,40,1,175,3,14,756,882,2734,15,12,4,1,1,0\\r\\n74,1452,0,1.1,0,3,1,32,0.5,175,3,5,699,1704,3617,16,1,12,1,1,0\\r\\n75,1810,1,1.1,1,6,0,63,0.9,151,1,19,582,1752,3414,18,10,10,1,0,0\\r\\n76,1166,1,2.2,1,2,1,41,1,165,7,4,680,1078,482,19,11,11,1,1,1\\r\\n77,881,1,0.8,1,5,0,6,0.4,117,6,12,814,1015,2813,18,1,17,1,0,1\\r\\n78,1134,1,0.5,1,0,1,64,0.5,166,5,0,672,1597,661,13,7,20,1,0,0\\r\\n79,1031,1,2,1,1,1,20,0.7,177,1,4,450,911,2546,9,6,12,1,0,1\\r\\n80,1376,1,2.4,1,0,1,34,0.4,167,6,1,757,1371,3922,5,0,2,1,0,0\\r\\n81,1391,0,1.4,1,2,1,56,0.1,137,5,8,208,900,1199,15,8,10,1,1,1\\r\\n82,979,0,2.1,0,6,0,24,0.6,124,5,16,1194,1256,3779,7,2,20,0,1,0\\r\\n83,1075,1,1.9,0,0,0,36,0.6,127,4,3,1335,1427,3870,8,3,20,1,1,0\\r\\n84,968,0,0.5,1,13,1,61,0.1,168,8,16,91,1585,858,8,7,11,1,1,0\\r\\n85,1999,0,0.5,1,1,1,15,0.7,183,8,11,33,653,3840,19,17,12,1,0,1\\r\\n86,1626,0,2.7,0,3,0,20,0.1,164,2,17,1095,1499,454,8,4,6,1,1,0\\r\\n87,942,0,1.7,1,14,0,28,0.8,153,8,20,336,797,3953,13,11,7,0,0,1\\r\\n88,1182,0,1.7,0,4,1,42,0.9,189,3,20,659,661,1633,14,3,6,1,0,1\\r\\n89,1982,1,0.8,1,9,0,48,0.4,98,6,16,183,709,3035,10,4,9,1,0,1\\r\\n90,1373,0,1.4,1,3,0,27,0.6,80,8,6,652,1100,966,14,0,9,0,0,1\\r\\n91,1151,0,1.7,1,8,0,44,0.5,107,8,17,410,1014,1761,7,4,10,1,0,0\\r\\n92,1650,1,2.1,1,6,0,51,0.9,99,5,15,440,1416,1938,14,0,3,0,1,1\\r\\n93,1663,1,0.6,1,0,0,17,0.7,152,4,2,532,886,2820,14,1,5,1,1,1\\r\\n94,1965,1,0.5,0,0,1,3,0.9,168,7,17,1373,1949,305,6,0,20,1,0,0\\r\\n95,679,0,0.9,1,0,0,41,0.3,154,4,1,773,920,2838,19,7,6,0,0,1\\r\\n96,1465,0,2.5,0,2,0,3,1,90,5,8,965,974,2042,8,2,12,0,1,1\\r\\n97,1809,1,2.2,1,3,0,27,0.3,137,5,19,568,1864,700,11,10,12,1,0,0\\r\\n98,757,1,2.4,1,8,1,26,0.2,164,8,17,652,1157,2593,19,3,15,1,0,1\\r\\n99,1034,1,0.7,0,7,1,47,0.2,105,6,15,214,1463,1835,8,1,9,1,0,0\\r\\n100,1119,1,2.5,0,9,0,23,0.8,81,4,19,423,1003,3121,15,4,5,0,1,0\\r\\n101,559,1,0.5,1,0,1,24,0.8,103,4,5,537,627,2023,14,1,2,1,0,0\\r\\n102,1204,1,1.8,0,9,0,19,0.8,113,8,15,667,1872,737,10,5,18,0,0,0\\r\\n103,1008,0,2.3,1,4,1,15,0.4,89,8,19,491,692,450,11,7,18,1,0,0\\r\\n104,1397,1,2.7,1,4,0,19,0.5,146,7,13,1037,1829,2928,12,2,4,0,0,0\\r\\n105,697,0,0.6,1,0,1,34,0.1,114,4,6,325,610,1694,14,8,8,1,0,1\\r\\n106,1939,1,1.3,0,5,0,58,0.3,174,2,17,49,974,2593,11,6,6,0,0,1\\r\\n107,1039,0,1.9,1,2,0,15,0.7,113,1,5,1324,1945,745,9,2,10,0,0,0\\r\\n108,1605,1,1.3,0,1,1,51,0.8,83,4,20,597,921,1310,11,9,10,1,1,1\\r\\n109,1094,0,1.6,1,2,0,34,0.6,128,8,4,765,836,2743,9,3,20,0,0,1\\r\\n110,769,1,0.5,1,1,1,30,0.8,190,3,9,470,1115,3976,12,10,11,1,0,1\\r\\n111,861,1,0.6,1,0,0,40,0.1,132,2,13,653,1062,3931,18,14,2,0,0,0\\r\\n112,504,0,0.9,1,4,0,63,1,169,2,16,463,1609,3455,17,15,15,0,0,1\\r\\n113,1930,1,1.6,1,5,1,64,0.3,119,4,17,325,1205,1533,5,1,6,1,0,1\\r\\n114,1795,1,0.6,1,10,0,52,0.3,140,2,16,855,910,3876,18,17,2,1,0,0\\r\\n115,1363,0,1.6,1,3,1,2,0.9,159,7,6,912,1684,3239,11,5,11,1,0,0\\r\\n116,1376,1,2.8,0,3,1,38,0.1,195,2,4,492,1110,3628,13,2,13,1,0,0\\r\\n117,1981,1,0.5,0,2,0,19,0.4,123,7,3,605,769,3663,15,0,2,1,0,0\\r\\n118,1901,0,2.7,0,4,0,62,0.7,133,3,17,401,1989,1786,16,10,5,0,1,1\\r\\n119,1319,0,1.3,1,10,0,5,0.1,140,8,17,366,1821,3502,14,6,3,1,0,0\\r\\n120,859,1,2.7,0,5,0,58,0.4,178,1,16,1225,1358,815,10,4,2,1,0,1\\r\\n121,1664,1,2.1,0,10,0,25,0.1,147,3,11,573,856,275,9,3,11,1,1,1\\r\\n122,955,0,0.5,1,0,0,62,0.4,151,1,1,261,538,3758,15,3,18,1,1,1\\r\\n123,517,0,1.5,1,3,0,38,0.1,97,7,4,680,1138,2747,11,5,2,0,1,1\\r\\n124,1806,0,1.1,0,2,1,64,0.3,133,5,7,280,683,1809,7,6,6,1,1,1\\r\\n125,1348,0,0.8,0,6,1,50,0.1,123,4,11,565,1443,2086,12,8,20,1,0,0\\r\\n126,1455,0,1.4,0,0,0,16,0.4,164,1,1,1379,1673,444,14,2,7,0,1,0\\r\\n127,1611,0,1.7,1,5,0,25,0.6,92,5,18,949,1297,3467,9,1,8,1,1,1\\r\\n128,1573,1,3,1,3,1,24,1,125,8,5,703,911,2776,5,3,17,1,1,1\\r\\n129,557,0,0.5,0,0,1,23,0.5,197,5,1,1264,1682,3170,12,2,7,1,1,0\\r\\n130,1599,1,0.5,0,4,0,31,0.1,130,2,5,1816,1917,1234,11,10,9,0,1,0\\r\\n131,1051,1,0.9,1,0,0,16,0.1,100,7,9,108,894,305,12,0,3,1,1,1\\r\\n132,1857,1,1.4,1,0,0,14,0.9,102,2,0,1328,1743,1745,15,10,20,0,0,0\\r\\n133,1986,0,0.5,0,6,0,24,0.9,174,6,9,797,1061,1707,5,3,12,1,0,1\\r\\n134,591,1,0.7,0,1,0,21,0.1,185,6,7,361,555,2220,11,10,13,1,1,0\\r\\n135,1140,0,1.6,1,0,1,56,0.3,131,7,4,1049,1715,3130,6,5,9,1,0,1\\r\\n136,923,1,0.6,0,0,1,10,0.8,80,2,3,357,1718,1500,18,9,9,1,1,0\\r\\n137,1582,0,0.5,0,0,0,33,0.4,200,1,9,197,764,2145,9,7,18,1,1,1\\r\\n138,723,0,0.5,0,5,0,63,0.5,172,8,14,906,1801,488,5,0,8,1,0,1\\r\\n139,1251,1,3,1,3,1,54,0.8,83,5,4,806,1405,3863,6,1,14,1,1,0\\r\\n140,574,1,1,1,4,1,60,0.1,139,2,7,924,1498,2913,14,0,9,1,0,0\\r\\n141,948,1,0.5,1,5,1,60,0.2,116,2,10,223,1148,2094,12,7,15,1,1,1\\r\\n142,1571,0,2.8,1,4,0,44,0.4,194,5,5,140,718,3141,8,1,17,0,0,1\\r\\n143,564,1,0.5,0,2,0,33,0.6,192,1,6,113,863,2573,13,6,2,0,1,1\\r\\n144,1466,0,2.4,1,14,1,57,0.9,155,6,18,1531,1727,2340,18,15,4,1,1,0\\r\\n145,597,1,3,1,0,0,16,0.5,140,2,0,35,708,3788,12,0,5,0,0,1\\r\\n146,895,1,2.5,1,10,1,9,0.5,148,7,14,1524,1691,3445,11,5,15,1,0,0\\r\\n147,1535,0,2.5,1,13,1,37,1,82,4,16,838,1667,3241,6,0,15,1,0,1\\r\\n148,1832,1,0.7,0,7,0,44,0.3,125,2,17,495,596,2976,19,3,9,0,0,0\\r\\n149,1045,1,1.6,0,0,1,58,0.2,177,4,12,1212,1772,2241,19,15,11,1,1,0\\r\\n150,1483,1,0.8,0,4,1,61,0.6,128,1,10,655,814,3843,11,8,20,1,0,1\\r\\n151,976,0,2,0,0,1,5,0.9,184,7,14,496,797,3261,8,2,6,1,1,1\\r\\n152,1840,1,1.1,1,0,0,46,0.1,123,4,2,800,1521,3264,8,4,16,0,1,0\\r\\n153,1807,0,0.6,1,0,0,8,0.1,89,8,15,1010,1425,826,11,1,20,0,0,0\\r\\n154,624,1,1.6,1,14,0,30,0.1,192,2,16,102,1052,1314,16,1,10,0,1,1\\r\\n155,1963,0,0.5,0,7,1,38,0.4,193,3,15,948,1406,2699,7,0,10,1,1,0\\r\\n156,1307,1,0.5,0,0,1,4,0.3,132,4,1,82,1236,2565,8,4,19,1,1,1\\r\\n157,1933,1,0.5,1,6,0,23,0.1,102,7,7,1286,1846,3973,13,10,19,0,0,1\\r\\n158,1496,1,1.3,1,0,0,42,0.9,124,2,5,264,995,3537,15,14,6,1,0,0\\r\\n159,1532,1,2,0,0,0,7,0.2,134,2,10,75,834,3449,5,4,7,1,1,1\\r\\n160,1004,0,1.1,1,7,1,8,0.8,97,2,9,461,919,3895,14,13,20,1,1,0\\r\\n161,1483,1,1.2,1,10,1,38,0.1,87,5,14,321,1410,2777,17,9,16,1,1,0\\r\\n162,945,0,2.4,0,3,0,47,0.4,141,2,11,120,1341,2904,19,14,5,0,0,0\\r\\n163,1081,0,3,0,7,1,17,0.1,89,5,17,174,1683,3774,17,15,16,1,1,0\\r\\n164,1012,0,2.8,1,6,1,32,0.9,87,3,14,1341,1997,3034,17,5,10,1,1,0\\r\\n165,1762,0,1,0,5,0,50,0.9,104,3,12,1337,1684,2940,19,18,15,0,0,1\\r\\n166,796,1,2.3,1,1,1,36,0.3,127,8,14,494,935,3932,5,1,5,1,1,1\\r\\n167,1547,0,2.5,0,12,1,50,1,98,5,16,849,1024,1168,17,2,17,1,1,1\\r\\n168,988,0,1.6,0,6,1,12,0.8,132,4,8,644,1291,376,9,1,17,1,0,1\\r\\n169,1180,1,3,0,7,1,43,0.8,102,1,16,1557,1985,3510,9,5,13,1,1,1\\r\\n170,852,1,1.9,0,3,1,3,0.5,161,2,4,376,872,542,14,9,9,1,0,1\\r\\n171,607,1,0.8,0,1,1,18,0.2,146,7,3,151,532,550,12,1,12,1,0,1\\r\\n172,1765,0,0.5,0,0,0,24,0.4,135,1,0,450,830,791,5,1,4,1,0,1\\r\\n173,1250,0,0.5,0,18,0,63,0.7,165,1,19,1336,1532,1895,13,6,7,0,1,0\\r\\n174,1577,0,2.6,1,0,0,55,0.5,109,5,0,1411,1718,609,6,0,20,1,1,1\\r\\n175,1153,1,0.5,1,5,0,14,0.2,135,5,6,742,1236,263,19,10,14,1,0,1\\r\\n176,651,1,0.7,0,0,0,35,0.4,113,7,5,1046,1414,2141,13,4,19,1,1,1\\r\\n177,1186,1,2.3,1,1,0,25,0.1,88,4,7,85,1012,1270,18,9,17,0,1,0\\r\\n178,1429,1,2.5,0,6,0,33,0.1,121,5,7,889,1846,403,11,6,18,1,1,1\\r\\n179,556,0,0.9,0,4,1,10,0.8,135,8,12,182,688,2040,13,12,2,1,0,0\\r\\n180,1735,1,2.7,0,5,1,21,0.1,126,3,8,282,1261,2597,16,12,8,1,0,1\\r\\n181,1859,0,0.7,0,8,1,42,0.1,127,2,16,1168,1612,714,19,7,16,1,0,1\\r\\n182,915,0,1.3,0,3,0,10,0.1,188,2,5,74,1266,423,13,3,14,0,1,1\\r\\n183,890,0,0.5,0,5,0,9,0.4,113,1,10,457,1134,1238,6,2,17,0,0,1\\r\\n184,758,0,2.8,0,13,0,48,0.7,101,3,18,1842,1896,926,9,5,18,0,0,0\\r\\n185,541,0,2.1,0,0,1,28,0.4,156,7,4,103,1039,2704,14,0,5,1,1,0\\r\\n186,586,0,2.9,1,6,1,33,0.2,195,8,17,1470,1644,2817,5,2,5,1,1,1\\r\\n187,762,1,0.6,1,11,1,39,0.7,164,1,14,1065,1686,2271,12,7,8,1,1,0\\r\\n188,683,0,0.5,1,0,1,9,0.8,186,7,3,1466,1754,1513,6,5,19,1,0,0\\r\\n189,1526,0,0.7,1,10,0,39,0.4,125,3,20,563,1439,339,10,9,19,1,0,1\\r\\n190,1771,1,2.4,0,6,0,39,0.7,188,2,9,460,1203,794,9,1,16,1,1,1\\r\\n191,639,0,1.3,0,5,0,28,0.9,113,7,16,983,1369,391,6,2,12,0,0,1\\r\\n192,1783,1,0.9,0,7,1,23,0.9,137,2,8,1114,1953,541,9,5,11,1,1,0\\r\\n193,1933,0,1.2,0,16,1,55,0.2,166,5,20,729,1248,648,10,7,13,1,1,0\\r\\n194,1384,0,1.3,1,3,1,62,0.4,153,1,5,1240,1393,3386,19,1,2,1,1,0\\r\\n195,1770,0,2.6,0,12,0,26,0.5,80,1,17,98,1724,1651,18,6,14,0,0,0\\r\\n196,1202,0,0.8,0,2,0,49,0.5,131,1,8,197,1435,1177,15,13,7,1,1,1\\r\\n197,885,0,0.5,1,2,0,3,0.5,163,7,8,813,1666,2887,5,1,13,0,0,1\\r\\n198,1629,1,2.3,0,2,1,2,0.8,86,6,19,1055,1200,2178,19,10,18,1,1,0\\r\\n199,1072,1,0.5,1,6,1,4,0.5,92,1,12,1019,1640,2878,7,5,13,1,0,1\\r\\n200,1863,1,2.5,1,0,0,64,0.7,89,5,1,159,618,3201,5,4,19,1,1,0\\r\\n201,1739,0,2.3,1,1,0,51,0.4,140,4,15,406,691,1490,5,1,9,0,1,1\\r\\n202,895,1,2.5,0,2,0,23,0.5,98,5,3,26,663,2724,16,14,7,0,0,0\\r\\n203,1278,1,2.8,1,0,0,56,0.6,179,1,7,406,1698,3032,9,5,6,0,0,1\\r\\n204,562,1,1.1,1,1,1,43,0.3,141,6,17,918,991,3352,13,12,17,1,1,0\\r\\n205,1249,1,2.1,1,0,0,38,0.8,193,5,10,940,1290,3195,19,7,17,0,0,0\\r\\n206,1811,0,1.2,0,18,1,25,0.8,185,6,19,1411,1443,1677,10,6,2,1,1,0\\r\\n207,560,1,2.9,1,1,1,12,1,161,5,19,465,1797,2620,13,0,16,1,1,1\\r\\n208,1773,1,0.5,0,14,1,61,0.1,141,7,20,847,1562,1061,17,4,15,1,0,1\\r\\n209,1715,1,2.1,0,5,0,11,0.4,100,3,10,314,1276,1018,16,5,8,1,1,1\\r\\n210,725,0,0.5,1,0,1,26,0.8,176,5,1,829,960,1370,7,6,9,1,1,1\\r\\n211,800,1,2.2,0,5,1,41,0.1,103,6,9,185,1008,2094,17,16,6,1,0,1\\r\\n212,1300,0,0.5,0,6,1,43,0.1,156,3,12,589,1815,2790,15,4,19,1,0,0\\r\\n213,1001,0,0.8,0,0,0,48,1,98,5,0,471,655,1485,10,2,11,1,1,1\\r\\n214,500,0,1.3,1,13,0,64,0.9,134,4,17,1384,1912,2807,19,7,7,0,0,1\\r\\n215,1378,1,2.5,1,4,1,52,0.5,184,3,7,13,641,3528,5,1,7,1,0,0\\r\\n216,951,1,2.4,0,1,1,24,0.1,147,8,20,897,1964,3391,19,4,7,1,0,0\\r\\n217,1038,1,0.5,1,1,0,48,0.2,99,6,2,83,1103,1073,5,4,2,0,0,1\\r\\n218,987,1,1.2,1,1,0,20,0.9,108,6,5,237,1427,2811,7,4,17,1,0,0\\r\\n219,1698,0,0.5,0,6,1,21,0.1,196,7,7,614,1254,778,7,3,3,1,1,1\\r\\n220,1762,1,0.9,1,14,0,11,0.1,107,4,17,647,801,3628,9,3,10,0,0,1\\r\\n221,785,0,2.4,0,6,0,16,0.2,135,3,13,223,1366,2637,12,8,16,0,0,0\\r\\n222,1851,0,2.4,1,2,0,59,0.1,151,3,18,278,1198,2892,10,0,5,1,1,0\\r\\n223,1698,0,0.5,1,2,0,62,0.4,189,3,13,1459,1565,2805,11,2,19,0,0,1\\r\\n224,1976,0,2.8,0,0,0,4,0.8,93,8,1,1146,1436,804,5,1,14,0,1,0\\r\\n225,1649,1,0.5,0,4,1,53,0.4,162,4,11,261,1316,361,12,7,19,1,1,1\\r\\n226,1157,1,2.6,1,4,0,4,0.9,149,7,6,878,1737,1453,17,10,9,1,0,0\\r\\n227,1702,0,0.5,0,1,1,54,0.4,131,5,2,1112,1578,359,13,12,5,1,1,0\\r\\n228,1040,1,0.6,0,0,0,54,0.3,199,2,5,458,959,3886,15,5,20,0,1,1\\r\\n229,790,1,2.1,1,2,1,29,0.7,106,6,11,521,1996,557,11,2,2,1,1,1\\r\\n230,1429,0,2.9,0,2,0,58,0.2,128,4,3,417,983,2005,15,1,9,0,1,0\\r\\n231,739,1,3,0,14,0,56,0.7,103,8,20,134,1696,630,17,2,11,1,0,0\\r\\n232,1364,1,1.6,1,6,1,44,0.1,174,7,8,615,1142,2741,9,3,18,1,0,1\\r\\n233,1580,0,2.8,1,0,0,45,1,196,8,7,1017,1092,2214,12,9,19,0,0,1\\r\\n234,1384,1,2.2,1,0,0,49,0.7,189,1,0,725,1741,1387,13,3,13,1,1,1\\r\\n235,1037,0,2.9,1,2,0,57,0.7,83,6,5,749,965,3148,16,13,9,1,0,0\\r\\n236,1519,0,1.5,0,12,0,43,0.1,183,1,14,868,1637,853,5,0,7,0,1,1\\r\\n237,989,0,0.5,0,15,0,20,0.4,153,1,16,68,947,3614,17,5,10,1,1,0\\r\\n238,1040,1,0.5,1,3,0,41,0.8,116,3,18,299,608,1006,12,7,18,0,0,1\\r\\n239,1240,1,1.4,0,3,1,9,0.9,93,5,7,477,1319,3959,14,9,15,1,0,0\\r\\n240,1273,1,2,0,15,1,7,0.9,143,1,16,288,706,1743,12,7,13,1,1,0\\r\\n241,1784,0,0.5,0,8,0,28,0.3,171,4,9,1145,1680,2192,15,13,2,1,0,0\\r\\n242,1169,1,1.4,1,7,1,51,0.1,177,7,19,515,720,329,14,6,13,1,0,1\\r\\n243,703,1,2.4,0,1,1,27,0.1,138,1,6,47,1820,502,12,4,11,1,1,1\\r\\n244,959,1,1,0,5,1,15,0.4,119,5,9,121,934,3000,15,0,15,1,1,1\\r\\n245,1292,1,3,1,1,1,63,0.3,157,6,8,452,1309,1413,13,2,10,1,1,1\\r\\n246,1927,1,2.1,0,0,0,5,0.9,139,6,1,603,1228,2913,15,10,8,0,0,0\\r\\n247,1477,1,1.7,0,1,0,15,0.4,178,8,5,1381,1459,2684,18,13,8,1,1,1\\r\\n248,1759,0,0.5,1,9,0,58,0.2,101,2,12,510,615,3428,17,0,9,1,1,0\\r\\n249,831,0,2.2,0,0,1,31,0.3,197,3,1,1460,1591,1629,8,1,5,1,1,0\\r\\n250,1803,0,1.1,1,1,1,41,0.2,146,2,10,102,613,1873,14,1,20,1,1,1\\r\\n251,1361,0,0.6,0,0,1,64,1,91,3,2,174,574,3751,18,6,19,1,1,0\\r\\n252,1183,1,1.4,0,1,0,32,0.8,197,1,4,884,1475,637,12,6,16,0,0,1\\r\\n253,917,1,1.3,0,0,0,53,0.2,166,5,1,750,1339,603,12,6,7,1,0,1\\r\\n254,1278,1,0.5,1,2,0,7,1,192,5,3,319,587,3067,10,2,4,1,1,1\\r\\n255,1247,1,0.5,0,0,0,28,0.4,191,7,5,901,1447,3268,16,3,15,0,1,0\\r\\n256,930,0,1,1,5,1,40,0.8,128,7,15,775,1224,3816,13,0,2,1,1,1\\r\\n257,1019,0,1.7,1,0,1,5,0.7,177,3,8,889,1840,1850,10,5,11,1,0,1\\r\\n258,1855,1,0.8,0,0,1,26,0.8,161,4,0,986,1339,3481,8,7,19,1,1,1\\r\\n259,1730,0,0.5,1,4,0,54,0.7,93,3,7,283,1151,1695,19,5,17,0,1,0\\r\\n260,1972,0,2.2,1,4,1,5,0.9,95,3,19,955,1781,625,10,1,10,1,1,1\\r\\n261,1887,0,2.3,1,4,0,35,0.9,115,2,7,178,1275,3203,7,5,15,1,0,0\\r\\n262,1590,0,1.9,0,0,0,13,0.4,111,6,1,759,1187,2440,19,0,3,1,0,1\\r\\n263,603,1,2.7,0,0,1,42,0.2,135,8,0,746,754,1934,14,10,11,1,0,0\\r\\n264,560,1,2.1,0,11,1,37,0.6,121,4,14,237,551,3278,15,9,7,1,1,0\\r\\n265,1981,1,1.6,1,10,0,34,0.1,117,5,20,929,1552,3764,11,4,14,1,0,1\\r\\n266,1190,1,2.1,0,0,1,18,0.6,160,6,2,644,1070,3571,6,5,5,1,0,0\\r\\n267,1396,1,0.8,1,7,1,10,0.3,108,4,16,646,1721,3881,13,0,9,1,1,1\\r\\n268,1598,1,1.7,1,0,0,57,0.9,89,1,1,371,783,1663,14,9,14,1,0,1\\r\\n269,1692,0,2.2,0,5,1,11,0.1,151,3,7,1256,1386,524,5,2,10,1,1,0\\r\\n270,628,1,0.5,0,0,1,26,0.5,106,8,2,389,517,1853,13,10,12,1,1,1\\r\\n271,1883,0,0.7,1,1,0,6,0.9,145,6,4,123,1320,2067,8,0,9,1,0,1\\r\\n272,819,1,0.5,0,5,1,16,0.1,163,1,10,663,1788,3325,15,5,16,1,0,0\\r\\n273,651,0,1.6,1,0,1,7,0.6,129,1,6,1268,1423,2151,19,10,20,1,1,1\\r\\n274,723,0,1.1,0,2,0,27,0.7,145,2,9,98,1175,2044,13,6,11,0,1,0\\r\\n275,1367,1,0.9,0,2,1,58,0.6,184,4,20,721,1210,3946,16,9,9,1,0,0\\r\\n276,1784,1,1.4,0,1,1,3,0.3,125,5,5,1424,1672,2110,10,5,8,1,0,1\\r\\n277,1744,1,0.9,1,5,1,35,0.3,137,7,9,915,1554,656,17,4,7,1,0,0\\r\\n278,1086,0,2.5,0,11,0,7,0.5,116,6,14,635,1839,3297,18,0,16,1,0,0\\r\\n279,899,0,1.7,1,0,1,3,0.1,165,8,0,167,1239,1296,14,11,9,1,0,1\\r\\n280,896,0,0.8,0,3,0,29,0.5,91,6,10,135,820,1650,16,6,13,1,0,0\\r\\n281,1714,0,1.6,1,9,1,59,0.5,186,8,19,991,1274,2546,18,10,11,1,1,1\\r\\n282,1395,1,0.6,0,5,0,38,0.3,167,6,16,896,1501,915,5,4,6,1,1,0\\r\\n283,786,0,1.8,1,2,0,28,0.5,198,1,7,3,1058,331,14,2,2,1,0,1\\r\\n284,1687,0,1.2,1,4,0,14,0.9,120,2,14,924,1461,3975,19,3,10,0,1,1\\r\\n285,669,1,2.6,1,18,1,10,0.6,171,5,20,1300,1834,2801,6,2,10,1,0,0\\r\\n286,1423,1,2.1,0,1,0,51,0.8,178,4,18,633,1371,3331,8,2,8,1,1,0\\r\\n287,1600,0,2,1,5,0,44,0.1,98,1,8,735,1205,2939,8,3,19,1,1,1\\r\\n288,1621,1,0.6,1,14,0,59,0.7,160,7,16,213,1120,2706,12,3,20,1,0,0\\r\\n289,1672,1,1.9,0,10,0,37,0.3,194,7,15,495,839,1335,7,1,8,0,1,1\\r\\n290,1934,0,2.7,0,9,1,48,0.1,128,4,18,475,853,3370,7,6,2,1,0,1\\r\\n291,1650,1,0.6,0,0,0,62,0.3,81,3,15,1305,1918,2596,5,2,10,0,0,0\\r\\n292,1700,0,0.5,1,1,0,33,0.8,189,5,2,382,1151,2477,9,8,3,0,0,1\\r\\n293,1550,1,2,0,1,1,29,0.6,171,5,2,572,1499,3465,10,1,14,1,1,0\\r\\n294,626,0,1.9,0,4,0,8,0.2,185,2,6,16,1410,2589,15,10,14,0,1,1\\r\\n295,1737,1,2,1,0,0,14,0.4,156,5,2,1028,1757,2363,8,0,10,1,0,1\\r\\n296,1370,0,1.7,0,1,0,6,0.7,113,1,7,482,1689,1302,7,3,3,0,0,1\\r\\n297,1899,1,0.8,1,15,0,14,0.4,191,4,16,1200,1345,1677,5,1,14,0,0,1\\r\\n298,848,1,0.6,0,0,0,31,0.7,123,5,1,299,756,1108,15,6,18,1,1,0\\r\\n299,1430,1,2,1,0,1,16,0.2,171,4,1,696,757,2916,6,3,10,1,1,0\\r\\n300,768,1,0.5,1,1,0,45,0.1,175,4,16,1164,1376,3947,6,1,12,1,1,0\\r\\n301,1856,1,1.9,1,9,1,15,0.5,160,3,14,450,714,1514,7,1,13,1,1,0\\r\\n302,900,1,0.5,0,11,1,64,0.7,149,4,12,164,708,942,13,5,2,1,1,0\\r\\n303,1729,0,2.3,1,0,0,38,0.2,136,7,8,77,1910,700,8,2,7,1,1,1\\r\\n304,1533,1,2.8,0,3,0,42,0.2,87,1,13,1316,1618,3246,10,2,8,0,1,0\\r\\n305,1210,1,2.3,0,0,0,63,0.9,141,6,4,51,1761,977,14,6,20,1,0,0\\r\\n306,1880,1,1.8,1,1,1,10,0.5,198,8,4,1664,1708,3538,19,16,17,1,0,1\\r\\n307,996,0,0.5,1,14,0,61,0.8,174,7,15,400,989,1235,11,10,16,1,1,1\\r\\n308,1175,0,3,1,12,1,40,0.1,172,5,18,812,1251,1507,15,14,18,1,1,0\\r\\n309,1773,0,0.5,1,7,0,33,0.3,143,5,13,831,1170,1994,16,9,20,1,0,0\\r\\n310,1263,0,2.4,1,11,1,54,0.6,100,5,14,12,1857,458,12,5,15,1,0,0\\r\\n311,1956,0,1.2,1,10,1,5,0.8,156,4,11,870,1753,2130,7,3,10,1,1,1\\r\\n312,992,0,1.6,1,10,0,27,0.3,162,4,14,106,767,3894,15,9,13,1,0,1\\r\\n313,911,1,1.7,0,1,1,13,0.3,126,5,2,713,760,1843,13,6,11,1,0,1\\r\\n314,1979,0,0.5,1,15,0,54,0.3,136,3,19,669,1311,3151,12,1,20,1,1,1\\r\\n315,1899,0,0.5,1,0,1,55,0.3,93,4,0,1359,1981,1796,7,4,11,1,0,1\\r\\n316,1649,1,0.8,1,1,1,40,0.1,159,3,3,177,586,2755,15,9,3,1,0,1\\r\\n317,1095,1,1.8,1,9,0,47,0.3,152,6,15,354,1827,1334,12,2,12,0,0,1\\r\\n318,1074,0,0.7,0,0,1,61,0.6,117,4,11,305,1770,2791,7,1,12,1,0,1\\r\\n319,656,0,2.7,1,0,1,48,0.2,164,2,0,303,508,1132,5,0,14,1,0,0\\r\\n320,1394,1,2.7,1,7,0,8,0.8,150,3,9,215,1018,730,15,7,4,0,1,1\\r\\n321,1632,1,1.1,0,2,1,45,0.8,132,4,3,22,1256,379,18,13,19,1,0,0\\r\\n322,1225,0,2.9,0,13,0,35,0.5,128,3,17,1324,1490,1261,12,4,15,0,0,0\\r\\n323,1337,1,2.4,1,0,0,48,0.9,107,6,2,819,1129,3213,10,5,15,0,0,0\\r\\n324,1178,1,1.1,1,0,1,11,0.5,98,2,1,1549,1661,2106,17,10,4,1,0,1\\r\\n325,1269,0,1.5,1,1,0,51,0.7,180,4,19,410,1782,827,15,6,12,1,1,0\\r\\n326,1526,1,1.2,0,7,1,32,0.5,128,4,12,1152,1592,647,19,3,18,1,0,1\\r\\n327,986,0,0.7,1,7,1,16,0.4,144,8,9,234,628,300,8,5,7,1,0,1\\r\\n328,848,0,0.5,1,1,1,41,0.2,171,2,2,388,1015,3939,6,3,3,1,1,0\\r\\n329,1904,1,0.5,1,8,0,14,0.5,95,4,13,636,828,2091,8,0,6,0,1,1\\r\\n330,803,1,2.2,1,0,0,16,0.1,105,1,0,199,736,1492,17,12,18,1,0,0\\r\\n331,1399,1,1.9,1,1,0,56,0.3,153,1,15,130,611,3128,17,2,19,1,1,0\\r\\n332,788,1,1.5,1,0,1,22,0.5,163,4,6,1114,1732,3750,13,10,12,1,0,1\\r\\n333,579,1,1.1,0,6,1,58,0.2,125,1,9,786,1685,1435,18,9,10,1,0,0\\r\\n334,1010,0,0.7,1,4,1,28,0.5,195,8,5,117,841,3302,14,2,7,1,1,0\\r\\n335,530,1,0.5,1,0,0,47,0.5,93,3,2,463,912,3455,19,8,2,1,1,1\\r\\n336,1289,1,1.8,0,1,0,64,0.6,125,7,14,173,548,2782,9,3,14,0,0,1\\r\\n337,1877,1,0.5,0,4,0,10,0.9,123,8,6,134,610,3969,6,0,7,0,0,1\\r\\n338,1764,0,2.7,0,11,1,48,0.9,90,7,17,444,581,1589,19,10,20,1,1,1\\r\\n339,1709,0,2.2,1,1,1,13,0.6,191,6,6,74,516,3899,16,13,3,1,0,1\\r\\n340,1690,0,1.3,1,0,0,28,0.9,85,3,1,1304,1332,3571,18,2,6,1,0,1\\r\\n341,600,0,2.5,1,3,0,9,0.2,145,4,10,584,714,2800,17,6,5,0,1,0\\r\\n342,743,0,0.5,0,9,1,53,0.3,149,2,10,670,1070,2938,9,3,13,1,1,1\\r\\n343,1850,0,2.2,1,9,0,41,0.8,133,8,13,27,518,3032,8,1,10,1,1,1\\r\\n344,1297,0,0.5,1,12,0,17,0.1,196,1,14,559,813,3652,19,4,12,0,1,1\\r\\n345,1706,0,1.8,1,10,1,44,0.2,137,5,13,716,1440,3238,5,3,20,1,0,0\\r\\n346,1967,0,0.5,0,11,1,23,0.6,135,5,16,931,1726,325,16,0,3,1,0,1\\r\\n347,1392,1,0.5,1,6,0,63,0.5,181,2,9,573,1468,3850,12,8,13,0,1,0\\r\\n348,1248,1,2.1,1,2,1,12,0.1,170,2,3,328,1378,1266,11,0,6,1,1,0\\r\\n349,894,1,0.5,1,2,0,27,0.3,192,2,6,932,1576,3454,9,4,14,0,1,0\\r\\n350,1829,0,0.5,0,2,1,54,0.6,98,3,20,383,1160,1634,7,0,12,1,0,0\\r\\n351,1372,0,0.6,0,3,1,42,0.7,124,6,10,68,1998,3208,18,5,9,1,1,1\\r\\n352,1429,1,1,0,7,0,11,0.7,150,4,8,436,813,1955,7,5,2,1,1,0\\r\\n353,706,0,0.5,1,10,1,4,0.8,190,5,18,204,966,3735,12,7,20,1,1,1\\r\\n354,649,0,1.9,0,0,0,51,0.6,179,4,12,1174,1388,3446,11,5,18,0,1,1\\r\\n355,1137,1,0.8,0,3,1,7,1,122,3,18,537,620,946,13,4,7,1,0,1\\r\\n356,1320,1,0.5,1,11,1,6,0.2,164,1,14,1034,1836,1626,11,9,14,1,0,1\\r\\n357,792,0,0.8,0,7,0,48,0.5,144,4,16,371,888,1583,15,2,20,0,1,1\\r\\n358,918,1,2.7,0,7,0,25,0.9,149,7,8,178,1850,3676,6,2,2,1,0,1\\r\\n359,929,1,0.5,1,7,1,13,1,146,7,8,213,1714,1704,15,2,5,1,0,0\\r\\n360,767,1,0.5,1,4,0,30,0.8,100,5,8,798,1955,3485,9,1,4,1,0,1\\r\\n361,1739,0,2.6,0,9,0,39,0.5,135,8,10,86,1957,1882,13,12,8,1,1,0\\r\\n362,1315,0,0.5,0,0,1,15,0.4,134,1,0,489,624,3928,8,4,8,1,0,1\\r\\n363,1388,0,1.4,1,4,1,31,0.6,184,1,14,1338,1443,346,8,2,12,1,0,0\\r\\n364,1981,0,2.5,1,1,0,36,0.3,94,4,2,128,1457,395,9,7,15,0,1,0\\r\\n365,569,0,0.5,1,1,1,53,1,170,8,20,457,1555,1243,17,10,10,1,1,0\\r\\n366,1930,0,1.3,0,2,0,57,0.2,151,1,9,678,1117,682,16,10,8,0,0,1\\r\\n367,725,1,0.5,0,10,0,61,0.8,108,3,17,260,508,3074,7,6,12,0,0,1\\r\\n368,1690,0,2.2,0,0,0,51,0.8,130,8,15,713,1092,451,6,4,7,0,0,1\\r\\n369,712,1,1.4,0,1,1,33,0.2,86,4,5,163,799,1471,15,0,10,1,0,0\\r\\n370,1603,1,0.5,1,8,1,37,1,95,8,9,1430,1622,1748,15,10,5,1,1,0\\r\\n371,1850,1,2.8,0,0,0,18,0.1,132,8,3,633,1382,1853,15,0,9,1,1,0\\r\\n372,1472,1,0.7,1,4,1,41,1,145,3,6,242,619,1514,8,1,16,1,1,1\\r\\n373,1858,0,0.7,1,1,1,43,0.2,167,5,3,1154,1473,1886,9,3,7,1,1,1\\r\\n374,1543,1,2.6,1,0,1,46,0.8,116,8,13,48,679,3023,6,4,4,1,1,0\\r\\n375,652,1,2.8,1,4,0,37,0.8,174,6,11,416,1652,2904,16,8,16,0,0,0\\r\\n376,546,0,1.8,1,6,1,55,0.9,100,6,12,493,1477,628,12,3,10,1,1,1\\r\\n377,1408,1,1.4,1,1,0,6,0.9,145,8,3,621,692,1833,9,1,19,0,1,0\\r\\n378,1021,0,1.5,1,3,1,31,0.1,97,7,10,189,1327,1066,18,15,17,1,1,1\\r\\n379,567,0,1.4,1,14,0,60,0.1,111,2,15,152,1326,1150,17,16,4,1,0,1\\r\\n380,1967,1,2.6,1,4,0,62,1,91,8,10,1355,1850,2839,13,7,10,1,0,0\\r\\n381,1658,0,2,1,8,1,61,0.1,180,3,20,443,1100,2857,7,1,5,1,0,1\\r\\n382,1088,1,3,1,2,1,52,0.3,164,7,4,86,588,1447,19,16,15,1,1,1\\r\\n383,542,1,0.7,0,2,1,12,0.2,185,2,3,1674,1969,3445,17,2,4,1,1,1\\r\\n384,788,0,1.6,1,6,1,52,0.1,96,1,20,530,1436,1941,14,0,19,1,1,0\\r\\n385,576,1,2.5,1,10,0,57,0.7,179,5,15,1009,1656,2522,11,5,12,0,1,0\\r\\n386,950,1,1.6,0,5,1,41,0.5,188,3,20,193,727,2932,10,7,20,1,0,0\\r\\n387,518,1,0.8,0,3,1,17,0.5,133,3,7,564,765,2239,7,3,7,1,1,1\\r\\n388,1996,1,1.9,0,4,0,55,0.3,81,7,8,890,1661,1852,8,2,4,0,1,1\\r\\n389,1197,0,2.9,0,6,1,38,0.1,83,6,17,1516,1910,3525,13,9,16,1,0,0\\r\\n390,1006,1,2.5,1,9,0,14,0.7,186,1,12,348,640,1955,17,6,9,1,1,0\\r\\n391,1679,1,1.5,0,2,1,4,0.1,133,4,3,349,531,1557,16,15,12,1,0,1\\r\\n392,1262,0,1.4,1,7,1,64,0.1,116,7,16,37,1018,3060,5,1,4,1,1,1\\r\\n393,560,0,1.3,1,13,0,29,1,160,1,19,906,1189,2832,16,1,7,1,0,0\\r\\n394,904,0,2.4,0,5,1,55,0.6,158,4,13,529,764,2008,6,1,16,1,0,0\\r\\n395,1834,1,2.1,0,1,1,55,0.1,137,3,10,670,1179,2420,15,3,8,1,0,1\\r\\n396,681,0,1.2,1,8,0,13,0.8,87,3,17,288,621,292,12,10,18,0,0,1\\r\\n397,687,0,0.6,1,13,1,14,0.4,185,2,16,721,1620,1580,19,4,19,1,1,1\\r\\n398,863,0,2.9,0,11,1,52,0.8,119,6,13,1060,1547,1345,7,0,20,1,0,0\\r\\n399,518,1,2.7,0,0,1,45,0.7,159,6,15,564,739,1208,10,9,9,1,1,0\\r\\n400,1488,0,1.8,0,0,1,2,0.1,124,4,0,765,777,3349,17,6,2,1,0,0\\r\\n401,944,0,2.4,0,0,0,35,0.5,127,3,1,7,719,2804,9,4,10,1,1,0\\r\\n402,1283,0,0.5,1,6,0,48,0.5,176,6,9,880,964,1182,11,8,17,1,1,0\\r\\n403,817,1,1,1,13,1,40,0.8,140,4,17,1180,1790,436,19,6,14,1,0,1\\r\\n404,804,0,2.6,1,2,0,49,0.6,105,1,18,638,939,2256,16,1,7,1,0,1\\r\\n405,1883,1,2.6,0,2,1,50,0.1,169,5,3,313,561,427,17,8,10,1,0,1\\r\\n406,1177,0,0.5,0,5,1,2,0.9,141,7,12,490,793,715,19,5,4,1,0,0\\r\\n407,1765,1,2,0,7,0,18,0.9,85,4,8,791,1580,1199,7,4,10,1,0,0\\r\\n408,1997,0,2.1,0,10,1,60,0.7,84,8,16,1130,1687,788,17,15,8,1,0,1\\r\\n409,989,1,2.6,1,1,0,14,0.2,148,4,11,513,1089,507,13,10,13,0,1,1\\r\\n410,1370,1,0.6,1,0,1,56,0.5,124,6,3,919,1113,974,5,4,15,1,0,0\\r\\n411,861,0,0.5,0,0,0,64,0.8,105,7,1,1376,1864,600,15,1,12,0,1,0\\r\\n412,1745,0,1.8,0,0,0,45,0.1,110,2,2,1070,1445,2352,11,9,16,1,0,1\\r\\n413,1187,0,0.6,1,0,1,4,0.7,92,8,0,709,1306,2518,14,12,20,1,1,1\\r\\n414,1422,1,1.8,0,12,0,3,0.9,145,1,13,1023,1223,3941,9,7,2,0,0,0\\r\\n415,658,1,2.4,0,0,1,38,1,94,8,1,479,1300,2585,19,2,8,1,0,0\\r\\n416,1180,1,2.3,1,0,1,32,0.8,97,2,1,1603,1762,3504,17,7,10,1,1,1\\r\\n417,521,1,2.6,1,1,1,64,0.8,200,4,11,575,1089,834,6,5,12,1,1,1\\r\\n418,666,0,1.1,0,1,1,28,0.9,179,1,13,157,1466,3850,7,5,9,1,1,1\\r\\n419,805,1,1.5,0,0,0,25,0.3,174,2,3,522,553,1580,15,13,3,1,0,0\\r\\n420,1008,1,2.9,0,0,0,39,0.9,161,6,5,565,1228,3589,14,1,18,1,0,1\\r\\n421,986,0,2.8,0,0,1,26,0.1,80,8,9,0,1214,1316,7,5,8,1,0,0\\r\\n422,1655,0,2,0,0,0,23,0.6,192,2,1,586,641,1872,11,9,13,1,1,0\\r\\n423,1391,1,0.5,0,0,1,53,0.2,114,5,1,996,1521,1114,8,0,17,1,0,1\\r\\n424,1042,1,0.5,1,11,0,13,0.1,148,3,20,98,569,1715,17,7,7,1,1,1\\r\\n425,916,1,1.1,1,5,1,44,0.9,116,3,16,893,1132,2367,8,5,7,1,0,1\\r\\n426,681,0,2.6,0,1,0,29,0.9,162,3,7,1262,1332,575,15,5,4,1,1,1\\r\\n427,1224,1,1.1,1,1,1,34,1,138,6,3,1545,1751,2992,13,5,3,1,1,0\\r\\n428,1234,0,2.1,1,4,1,44,0.4,107,3,17,797,1054,2819,13,3,8,1,0,1\\r\\n429,1093,1,2.7,0,8,0,63,0.5,138,8,9,605,1966,3556,13,2,13,0,0,1\\r\\n430,583,0,0.5,0,9,1,33,0.9,136,5,18,1673,1774,3236,12,9,13,1,0,0\\r\\n431,1598,1,1,1,8,1,49,0.5,115,2,14,537,1233,1313,12,2,7,1,1,0\\r\\n432,1988,1,2.8,1,3,0,34,0.4,163,3,16,1221,1981,2872,7,6,20,1,1,1\\r\\n433,1746,0,0.5,1,9,0,51,0.8,184,7,19,754,790,1822,18,17,15,0,1,0\\r\\n434,907,1,2.7,0,8,0,53,0.7,156,2,13,10,1881,3469,8,5,12,1,0,0\\r\\n435,1472,0,0.5,0,3,1,53,0.7,103,1,4,438,690,2001,14,0,14,1,1,1\\r\\n436,916,1,1.3,0,5,0,10,0.8,173,4,8,43,1012,3706,9,8,15,0,1,0\\r\\n437,1427,1,0.8,1,2,0,31,0.9,186,1,20,934,1005,2542,7,6,10,0,0,0\\r\\n438,1101,1,2.9,1,3,0,5,0.5,141,5,7,90,642,1567,15,2,11,1,1,0\\r\\n439,723,1,0.5,0,0,0,36,0.8,104,4,0,263,514,2669,17,6,16,0,0,1\\r\\n440,1403,0,0.7,1,4,0,32,0.1,117,1,5,257,551,2499,16,10,4,0,0,1\\r\\n441,657,1,0.8,1,4,0,45,0.1,87,1,6,843,1260,2273,15,12,10,0,1,0\\r\\n442,1688,1,0.8,0,0,0,14,0.9,118,1,2,48,1425,1773,13,0,18,1,1,1\\r\\n443,1086,0,0.5,0,10,0,35,0.6,125,7,17,577,1296,421,7,5,6,1,0,1\\r\\n444,876,1,1.1,0,2,1,48,0.9,196,2,3,524,1225,630,17,9,18,1,0,1\\r\\n445,1065,0,0.5,0,0,0,25,0.6,189,6,1,776,996,1114,5,1,19,0,0,1\\r\\n446,1235,0,1.5,0,3,0,33,0.1,164,8,16,633,1891,1623,10,3,20,1,1,1\\r\\n447,1959,1,2.7,0,0,1,2,0.2,92,3,11,992,1418,2125,14,7,8,1,1,0\\r\\n448,650,1,1.5,0,12,0,48,0.8,187,4,14,986,1291,1622,8,6,19,1,1,1\\r\\n449,1465,1,2.9,0,0,0,38,0.3,88,1,7,478,613,1162,14,10,10,1,1,1\\r\\n450,1030,0,0.9,0,6,1,29,0.1,113,1,7,174,624,3762,5,4,12,1,0,0\\r\\n451,853,1,1.9,1,17,1,26,0.5,94,6,18,114,817,3069,19,17,20,1,0,0\\r\\n452,744,1,2.2,0,6,1,52,0.9,196,4,7,268,600,1571,7,5,18,1,1,1\\r\\n453,583,1,1.1,1,15,0,24,0.4,168,2,19,301,1111,3260,14,6,14,1,1,0\\r\\n454,690,0,0.5,0,2,0,62,0.3,88,1,9,633,1240,3206,16,10,19,1,0,0\\r\\n455,683,1,1.9,1,16,1,56,0.1,190,1,17,144,585,592,17,9,3,1,0,0\\r\\n456,590,0,2.3,1,2,0,30,0.3,178,3,14,486,825,1188,18,11,14,1,0,1\\r\\n457,1266,1,1,0,0,1,2,0.7,87,7,1,640,1357,3067,11,10,16,1,0,1\\r\\n458,815,1,1.8,0,9,0,18,0.9,83,7,12,243,525,2131,17,7,5,0,1,0\\r\\n459,1893,1,1.5,1,0,1,42,0.5,179,1,3,1133,1851,1425,19,1,10,1,0,0\\r\\n460,1202,0,2.5,1,3,0,22,0.4,112,2,8,1900,1959,291,5,2,4,0,0,0\\r\\n461,1577,1,1.5,0,16,1,3,0.7,180,8,17,523,573,3116,13,6,16,1,1,0\\r\\n462,1234,0,2.9,0,8,1,44,0.8,129,1,12,1783,1891,2440,7,4,19,1,1,0\\r\\n463,717,0,1.8,0,1,1,25,0.4,173,5,8,668,1587,3631,6,5,6,1,0,1\\r\\n464,1074,1,1.5,0,5,0,35,0.6,193,4,13,269,597,1104,16,10,15,0,1,0\\r\\n465,1439,1,1.2,0,11,1,58,0.2,183,1,20,794,1552,3069,17,11,2,1,1,0\\r\\n466,983,1,1.6,0,7,1,55,0.4,168,8,8,205,963,1425,14,0,4,1,1,0\\r\\n467,1988,0,2.5,0,7,1,63,0.6,153,4,11,615,937,2276,13,7,11,1,0,0\\r\\n468,1692,0,1.3,1,0,1,25,0.7,149,3,12,1111,1898,3192,9,4,3,1,1,1\\r\\n469,718,1,0.5,1,2,0,35,0.9,181,4,5,1226,1763,3021,10,4,12,0,0,1\\r\\n470,1519,0,0.5,0,0,1,36,0.6,93,8,2,661,1852,3082,18,11,9,1,0,0\\r\\n471,776,0,3,1,9,0,9,0.5,110,2,12,584,974,1346,5,2,3,0,0,1\\r\\n472,881,1,2.8,0,1,0,36,0.5,167,1,6,1381,1444,2354,19,10,5,1,1,1\\r\\n473,1018,0,0.6,1,0,1,25,0.8,152,7,2,292,616,732,12,8,13,1,1,0\\r\\n474,1031,1,0.5,1,2,1,31,0.1,82,8,19,737,1404,2305,10,4,4,1,1,0\\r\\n475,875,0,1,0,14,0,37,0.6,151,7,20,1289,1668,2985,6,1,9,1,1,1\\r\\n476,1341,0,1,0,5,1,40,0.2,128,5,12,1434,1700,265,19,3,3,1,1,1\\r\\n477,560,1,2.4,0,4,1,5,0.3,106,1,8,1338,1386,2050,18,13,6,1,0,0\\r\\n478,1719,0,2.1,0,0,1,63,0.7,189,7,2,589,1637,1669,14,0,13,1,0,1\\r\\n479,1703,0,1.6,0,16,1,43,1,139,8,17,178,1972,585,13,11,17,1,1,1\\r\\n480,1408,1,1.8,0,1,0,59,0.8,168,1,2,716,1470,342,8,0,8,1,0,1\\r\\n481,701,1,0.8,0,3,0,53,0.2,87,4,7,1063,1149,1972,9,8,5,1,0,0\\r\\n482,1560,1,0.5,0,14,0,47,0.3,172,2,18,910,1908,1540,17,7,3,0,0,0\\r\\n483,695,1,1,0,4,0,51,0.8,93,5,5,174,538,2463,7,2,4,1,1,1\\r\\n484,1487,0,0.6,0,18,1,6,0.8,191,4,19,665,1072,3259,11,9,13,1,0,1\\r\\n485,1546,1,2.7,0,3,0,55,0.2,115,7,14,1425,1594,3371,16,7,15,0,0,1\\r\\n486,511,1,0.7,0,12,1,43,0.4,120,4,15,1291,1583,3370,16,5,6,1,0,0\\r\\n487,507,0,1.1,0,5,0,33,0.6,186,1,6,535,897,2884,18,7,7,0,0,0\\r\\n488,1490,1,1.1,0,2,0,10,0.6,130,2,7,1357,1826,2994,16,1,8,1,0,1\\r\\n489,1859,0,0.5,0,0,1,52,1,187,1,2,651,966,1604,15,12,10,1,0,0\\r\\n490,1257,0,1.8,0,3,1,31,0.6,155,5,10,1006,1533,2014,15,8,12,1,0,0\\r\\n491,926,0,2.7,1,0,1,29,0.7,118,5,18,349,1594,2709,5,4,18,1,0,1\\r\\n492,1303,0,0.5,0,2,0,7,0.6,98,4,5,740,1908,2865,17,3,12,0,0,0\\r\\n493,657,0,1.6,1,0,0,35,0.6,143,5,14,1189,1545,3617,17,14,14,0,0,1\\r\\n494,1812,0,0.9,1,9,0,44,0.2,197,3,16,299,1212,3814,9,6,13,1,1,0\\r\\n495,1943,0,0.5,1,0,1,29,0.4,121,1,1,440,1126,1990,5,2,11,1,1,1\\r\\n496,1082,1,0.9,0,4,1,24,0.9,167,7,9,425,761,1428,16,0,12,1,1,0\\r\\n497,721,1,2.6,0,1,0,49,0.6,168,4,8,35,598,3473,15,8,17,0,0,0\\r\\n498,654,1,1.5,1,2,0,56,0.7,122,1,4,441,520,2609,7,2,16,1,1,1\\r\\n499,1948,1,0.7,0,2,0,31,0.4,122,2,7,968,1208,2070,5,3,5,1,0,1\\r\\n500,1242,0,1.8,1,4,1,56,0.1,122,1,8,753,1785,2620,18,11,3,1,0,1\\r\\n501,1453,1,0.5,0,0,0,24,0.3,156,1,1,29,1055,1619,11,5,11,1,0,1\\r\\n502,1948,1,2.7,0,3,1,13,0.2,164,7,12,336,587,493,18,7,18,1,1,1\\r\\n503,1232,0,0.9,0,5,0,58,1,142,6,6,1062,1393,2334,14,8,13,1,0,1\\r\\n504,795,0,0.5,1,4,1,55,0.3,155,3,11,226,1737,3030,12,8,17,1,1,0\\r\\n505,1915,0,0.5,0,4,0,24,0.2,106,4,17,923,1502,345,18,10,20,0,0,1\\r\\n506,532,0,0.5,0,7,0,51,0.6,180,7,14,406,1249,1525,7,6,2,0,1,1\\r\\n507,1899,1,0.5,0,4,1,28,0.1,95,5,7,781,1418,499,5,3,15,1,0,1\\r\\n508,1767,0,2,0,5,0,31,0.6,88,5,8,461,556,3989,13,8,7,0,1,0\\r\\n509,1667,1,2.5,0,17,0,5,0.8,119,3,20,211,1797,1496,13,9,12,0,0,0\\r\\n510,1346,0,2.6,1,5,0,31,0.3,140,4,11,17,785,1287,10,6,14,1,0,1\\r\\n511,958,1,2.4,0,1,0,54,0.9,166,7,2,121,630,3324,11,10,18,1,0,1\\r\\n512,1391,0,1.5,1,6,1,39,0.9,88,3,18,491,1737,2367,18,11,12,1,1,0\\r\\n513,1176,1,2.3,0,0,0,56,0.7,103,2,1,93,518,2974,6,5,11,1,0,1\\r\\n514,1863,0,1,1,5,1,16,0.4,113,2,19,261,684,990,6,5,13,1,0,0\\r\\n515,1911,0,1.1,1,3,1,16,0.7,154,7,4,236,1568,3665,14,12,4,1,1,0\\r\\n516,1789,1,1.8,1,6,1,36,0.5,123,6,11,418,1740,815,5,0,9,1,1,0\\r\\n517,972,1,1.6,0,2,0,64,0.1,85,1,9,550,890,2759,13,7,10,1,0,0\\r\\n518,1256,0,0.5,0,3,0,8,0.4,191,1,9,396,644,2991,7,6,19,1,1,0\\r\\n519,1846,0,1.3,1,0,0,35,0.7,107,6,0,1336,1432,581,16,4,10,1,0,1\\r\\n520,1900,0,1.4,0,0,0,41,0.4,112,8,1,342,778,3611,14,1,6,1,0,0\\r\\n521,769,1,0.6,1,19,1,52,0.7,118,4,20,263,1786,431,15,4,19,1,0,0\\r\\n522,756,0,1,0,0,0,33,0.2,177,1,3,506,573,3402,19,0,3,1,1,0\\r\\n523,1728,0,2.3,1,0,1,43,0.7,152,1,0,1029,1535,3480,11,8,20,1,1,0\\r\\n524,1970,0,2.9,0,3,1,9,0.2,163,2,7,110,1454,768,13,2,16,1,0,0\\r\\n525,1021,0,2.1,1,6,1,47,0.3,173,6,18,224,1360,2215,13,12,2,1,1,1\\r\\n526,888,0,2.5,1,5,0,14,0.9,98,5,17,891,1432,1849,5,1,11,0,1,0\\r\\n527,1419,0,0.5,0,0,0,39,0.2,189,7,1,727,1132,3435,9,2,6,0,0,0\\r\\n528,1959,1,0.5,0,0,0,30,0.1,153,3,1,901,1027,3057,14,1,18,1,0,0\\r\\n529,1394,0,0.6,0,1,0,63,0.4,103,6,2,1152,1245,1731,19,18,16,1,0,0\\r\\n530,1715,1,2.5,1,2,1,30,0.9,134,7,3,1853,1971,768,19,9,15,1,0,0\\r\\n531,588,0,2.9,1,1,0,40,0.3,116,6,5,185,923,2780,5,2,14,0,1,0\\r\\n532,1607,1,0.5,1,2,1,29,0.7,105,2,9,243,1234,3469,10,1,15,1,0,0\\r\\n533,1171,1,2.8,0,8,1,47,0.4,192,1,11,371,674,3092,8,2,5,1,0,1\\r\\n534,1138,0,1.5,1,0,0,57,0.2,85,4,6,1315,1569,313,16,11,20,1,1,0\\r\\n535,1096,0,1.2,1,3,0,40,0.6,113,4,13,614,1757,2931,10,8,14,1,0,0\\r\\n536,906,0,3,0,10,1,14,0.5,83,8,15,176,641,1761,17,11,12,1,1,0\\r\\n537,740,0,3,1,0,1,47,0.7,166,3,5,417,596,3578,15,5,20,1,1,1\\r\\n538,1435,1,0.5,1,10,1,62,0.1,150,4,14,453,664,369,8,1,4,1,0,1\\r\\n539,1745,1,1.2,0,3,1,21,0.2,89,3,14,202,1670,3507,18,1,20,1,1,1\\r\\n540,1995,0,2.6,1,2,1,4,0.8,171,2,20,1133,1972,3452,6,3,19,1,1,0\\r\\n541,1813,0,1.8,1,10,1,28,0.5,159,2,14,1655,1899,981,15,14,14,1,0,1\\r\\n542,1719,1,1.9,1,2,0,40,0.1,118,3,12,658,1778,2534,10,6,5,0,1,1\\r\\n543,812,0,0.5,1,1,1,17,0.6,182,7,11,595,891,3248,13,10,14,1,0,0\\r\\n544,987,1,2.9,0,0,1,63,0.3,154,7,6,150,1623,2646,12,1,6,1,1,1\\r\\n545,977,1,0.7,0,5,0,50,0.5,106,3,6,1124,1758,3454,15,14,19,1,0,1\\r\\n546,1289,1,0.7,0,0,0,7,0.1,99,2,18,489,565,375,5,1,19,0,1,1\\r\\n547,1125,1,0.5,0,3,0,42,0.9,158,1,20,647,751,1622,13,0,9,0,1,1\\r\\n548,1733,1,1.9,1,14,0,28,0.8,104,3,15,749,1203,2246,18,6,12,1,1,0\\r\\n549,1333,1,1.2,1,1,0,35,0.9,198,1,4,477,651,3816,18,7,9,0,1,1\\r\\n550,964,1,3,1,3,1,48,0.9,131,6,13,829,1154,1597,15,7,18,1,1,1\\r\\n551,1613,0,1.3,0,1,1,24,0.4,195,2,5,1141,1590,3733,15,5,5,1,0,1\\r\\n552,1123,1,1.2,0,1,0,8,0.6,171,4,4,1096,1152,2877,17,9,12,0,1,0\\r\\n553,1913,1,2.8,0,0,1,7,0.3,136,4,16,612,1108,3227,6,0,4,1,0,1\\r\\n554,1302,0,0.5,0,3,1,20,0.6,184,7,7,1099,1202,1446,8,6,16,1,0,1\\r\\n555,797,0,1.4,1,0,1,9,0.1,104,1,14,1515,1812,1043,13,11,13,1,1,0\\r\\n556,1074,1,1.5,1,5,0,9,0.1,174,2,7,41,756,1649,16,3,3,0,1,0\\r\\n557,1411,1,2.6,0,0,0,61,0.3,165,5,3,1128,1959,483,16,5,4,1,1,0\\r\\n558,1502,1,2.2,1,0,1,16,0.5,187,5,1,492,750,3712,9,2,16,1,1,1\\r\\n559,983,1,1.5,0,1,0,22,0.1,170,4,20,1542,1765,1694,19,15,8,1,0,1\\r\\n560,1457,0,0.5,1,7,0,8,0.3,120,7,13,786,1032,584,13,4,10,1,0,0\\r\\n561,1315,1,0.9,0,3,1,40,0.6,162,6,6,1272,1316,3431,8,2,20,1,1,0\\r\\n562,1514,0,0.7,0,11,0,11,0.2,187,5,17,656,1451,2315,13,0,5,0,0,0\\r\\n563,1604,1,0.5,1,0,1,63,0.8,169,5,1,399,1360,3870,16,13,19,1,1,1\\r\\n564,1919,0,0.6,1,11,1,63,0.9,109,8,20,771,1829,2205,9,4,8,1,1,0\\r\\n565,1152,1,3,0,2,0,44,1,80,3,4,567,1802,986,7,5,8,0,0,1\\r\\n566,664,1,2.9,0,10,1,40,0.1,173,5,15,1002,1260,3366,8,4,5,1,1,0\\r\\n567,1848,0,0.5,0,9,0,36,0.1,174,6,10,317,540,3380,10,2,17,0,0,0\\r\\n568,1319,0,2,1,9,1,28,0.8,178,1,19,1080,1886,3095,7,1,17,1,1,1\\r\\n569,1189,1,2.5,0,4,1,20,0.3,171,7,9,1321,1717,2509,17,7,15,1,0,0\\r\\n570,1130,1,1.3,1,1,1,59,0.8,98,6,4,185,555,3785,17,4,5,1,0,1\\r\\n571,654,1,1.3,1,11,0,5,0.7,199,4,14,208,1975,3801,14,13,9,1,1,1\\r\\n572,727,1,0.5,1,0,1,42,0.1,163,8,1,44,757,2039,5,0,19,1,1,1\\r\\n573,1688,0,0.9,1,7,1,53,0.3,88,6,16,598,695,2156,5,4,20,1,1,0\\r\\n574,1275,0,0.5,0,1,0,44,0.6,136,8,2,11,1130,1354,7,5,11,1,0,0\\r\\n575,1108,1,2.2,1,3,1,37,0.4,143,5,14,97,706,3094,6,1,10,1,0,1\\r\\n576,839,1,2.7,0,4,0,37,0.7,93,2,7,43,1211,3505,5,1,4,0,0,0\\r\\n577,1464,0,0.5,1,1,1,6,0.4,97,5,2,303,701,3725,9,1,6,1,0,0\\r\\n578,750,1,1.3,0,0,0,33,0.8,156,1,0,645,1680,1422,6,5,7,1,1,0\\r\\n579,1749,0,1.1,0,9,0,57,0.6,183,3,15,415,589,786,8,1,9,1,1,1\\r\\n580,1229,1,0.5,0,2,0,42,0.1,197,5,5,126,666,1712,11,9,15,1,1,1\\r\\n581,1506,1,2.9,1,19,1,47,0.6,130,7,20,126,1150,1522,5,1,3,1,0,0\\r\\n582,1887,0,2.1,0,0,0,23,0.5,148,4,20,837,1504,1811,18,16,11,1,1,0\\r\\n583,652,0,0.5,0,6,0,3,0.6,193,1,8,1036,1345,2807,19,17,13,1,0,1\\r\\n584,1422,1,2.8,0,7,0,30,0.5,99,6,14,207,1038,2229,15,5,15,1,0,1\\r\\n585,709,0,1.9,1,10,0,63,0.3,150,4,14,345,601,1509,7,2,7,1,1,0\\r\\n586,583,0,0.5,1,1,1,62,0.8,84,8,6,717,1717,886,13,2,13,1,1,0\\r\\n587,941,0,1.3,1,3,0,26,0.4,128,3,5,994,1494,2875,6,3,11,1,0,1\\r\\n588,763,0,1.2,1,4,1,59,0.6,119,1,17,724,737,2863,18,3,17,1,0,1\\r\\n589,1581,1,1.4,0,0,1,55,0.6,138,2,1,890,1980,3936,5,1,3,1,0,0\\r\\n590,1045,0,1.5,1,5,0,25,0.3,83,2,10,440,1730,2267,18,4,4,1,1,1\\r\\n591,1308,1,0.5,1,0,0,34,0.5,169,5,0,432,1219,386,8,0,16,1,0,1\\r\\n592,702,1,1.2,1,1,0,38,1,82,5,7,2,1152,3131,11,9,2,0,0,0\\r\\n593,868,1,2.8,0,4,1,36,0.2,175,7,13,123,1735,1655,12,10,5,1,0,0\\r\\n594,877,1,2.3,1,16,0,12,0.9,107,4,20,568,1267,3730,14,3,18,0,0,1\\r\\n595,1275,0,0.5,1,5,0,24,0.3,184,2,11,299,1239,3397,19,15,19,1,1,1\\r\\n596,1439,1,0.5,1,0,0,50,0.7,182,8,1,559,1573,805,8,5,13,0,0,1\\r\\n597,510,0,1.3,1,0,1,15,0.5,131,1,1,268,1505,2187,5,4,17,1,0,1\\r\\n598,1038,1,1.8,0,1,1,42,0.2,150,6,11,79,1186,3984,14,9,20,1,0,0\\r\\n599,529,1,1.4,1,13,1,32,0.7,139,2,17,797,878,1561,12,0,3,1,1,1\\r\\n600,1203,1,1.7,0,8,1,20,0.7,157,3,17,1153,1688,2307,7,5,11,1,0,1\\r\\n601,768,1,2.5,0,10,0,13,0.2,133,4,18,520,575,1921,8,2,16,1,0,1\\r\\n602,1780,1,1.5,1,2,0,30,0.2,82,1,8,324,1461,1066,13,6,13,0,0,1\\r\\n603,1021,1,0.9,1,2,1,9,0.5,184,8,4,490,1647,773,13,2,14,1,1,1\\r\\n604,1334,0,1.2,1,0,0,35,0.1,199,2,1,158,971,1038,16,14,17,1,0,0\\r\\n605,1153,1,0.5,0,2,1,34,0.6,133,3,3,1788,1886,2225,9,8,8,1,0,1\\r\\n606,1138,1,1.8,1,0,1,51,0.3,172,4,2,1162,1794,1327,13,12,4,1,1,1\\r\\n607,1263,0,2.3,0,13,0,4,0.9,178,7,18,508,1047,668,14,3,4,0,1,0\\r\\n608,825,0,2.5,0,11,0,56,0.7,173,3,20,783,960,1692,18,1,19,0,1,0\\r\\n609,1894,1,0.5,1,10,0,16,0.1,172,3,20,1634,1937,1021,18,17,16,1,1,0\\r\\n610,1383,0,1.7,0,11,1,40,0.1,147,6,19,487,507,2510,18,9,19,1,1,0\\r\\n611,837,1,1.1,1,2,0,27,0.5,167,4,9,551,1784,2388,5,0,14,0,1,1\\r\\n612,640,0,2.3,0,0,0,63,0.2,94,1,1,1816,1869,346,10,7,10,0,1,0\\r\\n613,1194,1,2.2,1,3,0,3,0.2,90,5,8,46,1288,2872,6,5,13,1,1,0\\r\\n614,520,0,0.6,1,2,1,44,0.6,127,3,9,12,914,3616,15,4,18,1,0,0\\r\\n615,942,1,2.5,0,6,0,11,0.5,196,5,19,451,1310,1783,7,5,18,1,1,1\\r\\n616,558,1,2.2,0,5,1,24,0.1,169,4,16,447,804,482,12,4,4,1,1,0\\r\\n617,1733,0,1.6,1,9,0,56,0.5,111,6,15,633,1649,3352,6,5,9,1,0,0\\r\\n618,1210,0,1.3,0,0,1,52,0.1,183,8,1,567,579,1104,11,2,10,1,0,1\\r\\n619,880,0,0.5,1,7,1,32,0.5,141,4,17,346,739,1141,19,17,20,1,1,1\\r\\n620,1938,1,1.4,1,4,0,60,0.4,171,2,7,76,1084,3691,9,5,3,1,1,0\\r\\n621,657,0,1.3,1,4,0,28,1,118,2,19,1444,1735,2602,9,0,7,0,0,1\\r\\n622,1273,0,0.5,1,6,1,47,0.2,98,1,12,685,1352,303,11,2,14,1,0,0\\r\\n623,1842,1,0.5,0,0,1,19,0.2,147,3,0,565,709,585,11,3,19,1,0,0\\r\\n624,1567,1,1.3,0,8,0,45,0.6,99,4,12,870,1020,927,19,9,12,1,1,1\\r\\n625,914,1,1.7,1,6,0,36,1,128,2,13,1032,1822,786,19,8,13,1,0,1\\r\\n626,1568,0,1.8,1,4,0,22,0.1,119,8,6,661,1584,294,13,2,2,0,1,0\\r\\n627,873,1,0.5,0,4,1,30,0.2,175,6,18,237,1531,3655,15,13,15,1,0,0\\r\\n628,1371,0,0.5,0,0,1,57,0.8,108,4,5,352,810,286,11,9,9,1,0,0\\r\\n629,1739,0,1,0,1,0,15,0.9,100,1,7,426,793,3285,17,8,9,0,1,0\\r\\n630,630,0,2.2,0,1,0,56,0.2,119,8,10,1329,1445,1317,6,5,12,1,1,0\\r\\n631,1507,0,3,0,0,1,54,0.3,112,6,9,346,1511,3547,17,6,18,1,0,1\\r\\n632,735,1,0.5,1,4,1,17,0.6,131,2,6,610,1283,2484,11,2,3,1,0,0\\r\\n633,941,0,2.5,0,1,1,41,0.3,117,8,4,652,1855,1791,7,4,10,1,0,1\\r\\n634,1216,0,1.7,1,1,0,26,0.7,116,3,4,957,1811,3607,10,0,17,1,0,0\\r\\n635,621,1,1.9,1,10,0,3,0.6,148,8,15,972,997,3521,6,3,10,0,1,0\\r\\n636,934,1,2.4,1,3,0,61,0.2,138,6,4,10,613,1180,14,12,16,0,1,0\\r\\n637,1962,1,0.7,1,1,1,18,0.9,159,7,6,282,507,2026,10,3,15,1,0,1\\r\\n638,574,1,0.5,1,0,0,41,0.8,85,6,13,288,502,1865,6,5,6,0,0,1\\r\\n639,1078,1,2.5,0,3,0,56,0.6,158,2,6,257,1986,3471,10,2,2,1,0,0\\r\\n640,761,0,1.3,0,15,1,37,0.9,174,8,16,867,1978,2270,9,1,4,1,1,0\\r\\n641,1758,1,2.1,0,14,0,29,0.1,155,3,20,60,1151,2940,14,5,9,0,1,1\\r\\n642,1745,1,2,0,13,0,47,0.6,154,2,18,1017,1953,1715,6,4,16,0,1,1\\r\\n643,1657,1,1.9,0,1,1,40,0.2,170,3,6,518,1723,841,13,10,13,1,0,1\\r\\n644,968,1,0.9,0,10,1,26,0.5,88,5,14,954,1159,3381,14,5,10,1,0,1\\r\\n645,1329,0,2.8,1,1,0,10,1,105,4,10,871,1293,337,5,4,5,0,1,0\\r\\n646,1923,0,0.5,0,2,1,13,0.7,147,2,4,927,1623,1868,11,6,3,1,1,0\\r\\n647,613,0,2.5,0,0,0,53,0.4,200,8,0,519,586,1509,19,18,13,1,1,1\\r\\n648,1268,0,2.7,0,4,0,53,0.5,141,1,9,682,862,2903,17,0,16,0,1,0\\r\\n649,519,1,2.9,0,2,0,3,0.6,83,3,5,491,1527,1231,8,6,16,1,1,1\\r\\n650,1157,1,2.8,1,16,0,19,0.5,87,8,18,137,1154,1403,6,1,4,1,1,1\\r\\n651,519,0,0.6,1,7,1,45,0.1,186,7,11,1248,1733,1580,12,10,12,1,0,1\\r\\n652,1308,1,2.2,1,1,0,51,0.2,113,5,17,1471,1604,1189,14,1,11,0,1,0\\r\\n653,1403,1,0.5,0,4,1,42,0.5,144,8,9,1156,1252,1381,12,7,3,1,0,1\\r\\n654,936,0,2.7,0,2,1,38,0.6,122,1,17,766,1263,2826,19,15,10,1,0,0\\r\\n655,1878,0,0.8,1,8,0,31,0.5,183,7,10,1369,1389,1342,17,14,18,0,1,1\\r\\n656,1141,1,2.9,1,1,1,2,1,92,2,4,456,1387,3386,6,0,11,1,0,0\\r\\n657,794,1,2.7,0,2,1,3,0.3,127,2,18,1559,1729,1141,18,6,3,1,0,1\\r\\n658,1260,0,1.9,1,3,0,60,0.9,85,2,6,973,1109,3964,15,8,18,1,0,1\\r\\n659,1281,0,3,1,2,1,6,0.6,191,2,9,363,811,2713,13,7,4,1,1,0\\r\\n660,1208,0,2.7,0,0,0,17,0.2,168,2,1,1686,1793,2165,9,1,19,1,1,1\\r\\n661,1023,1,2.8,1,16,0,44,0.7,176,4,17,629,1158,1830,14,11,6,0,0,0\\r\\n662,1515,0,2.2,0,9,0,36,0.1,118,3,10,796,1692,3546,7,6,10,1,1,1\\r\\n663,1333,1,1.8,1,1,0,45,0.6,128,5,5,557,1716,2585,7,1,13,1,1,1\\r\\n664,529,1,2.3,0,3,1,58,1,197,2,18,658,1294,873,11,5,4,1,1,0\\r\\n665,1887,0,1.7,0,6,1,41,0.9,81,8,15,939,973,1664,19,14,14,1,0,0\\r\\n666,876,0,2.7,0,12,1,41,0.3,92,7,16,140,512,3334,16,3,14,1,0,1\\r\\n667,687,1,2,1,13,1,56,0.8,131,7,19,580,736,569,18,1,6,1,1,1\\r\\n668,1153,1,2.8,1,0,1,62,0.2,94,5,0,186,1279,3353,7,5,10,1,0,0\\r\\n669,1637,1,1.7,1,5,1,33,0.4,118,6,16,1375,1474,3693,7,3,8,1,0,0\\r\\n670,1131,1,0.8,0,0,1,27,0.9,162,5,16,487,870,503,12,5,19,1,1,0\\r\\n671,1764,1,1.2,0,0,1,8,1,125,3,1,180,1443,2406,19,18,18,1,0,1\\r\\n672,1544,0,1,1,2,1,64,0.3,193,1,6,595,675,1715,8,0,16,1,1,1\\r\\n673,844,1,0.7,0,3,1,22,0.9,172,7,4,241,926,2179,10,6,6,1,1,1\\r\\n674,985,1,0.5,1,4,1,5,0.8,158,8,9,19,1496,3071,14,4,16,1,1,0\\r\\n675,703,0,1.3,1,6,1,18,0.1,178,1,9,1182,1697,355,8,6,3,1,1,1\\r\\n676,1906,0,0.9,1,3,0,14,0.5,114,4,12,199,867,3375,6,3,19,1,0,1\\r\\n677,617,0,2.1,1,11,0,40,0.9,108,1,18,659,1318,2921,17,1,19,0,0,0\\r\\n678,617,1,0.6,0,7,0,47,0.5,153,8,18,356,838,341,11,3,5,0,1,1\\r\\n679,716,1,1.3,1,0,1,56,0.7,167,1,2,390,722,3947,6,3,5,1,1,1\\r\\n680,676,0,1,0,1,1,54,0.8,182,5,2,805,1710,2650,5,0,3,1,0,0\\r\\n681,1770,1,2,0,8,0,12,0.8,118,2,9,57,891,3816,8,4,19,1,0,0\\r\\n682,1857,0,1.9,1,0,0,62,0.6,147,1,0,1028,1465,336,19,0,5,0,0,0\\r\\n683,524,0,0.9,1,8,1,10,0.1,85,7,14,287,655,625,6,0,4,1,1,1\\r\\n684,576,0,0.9,1,8,0,56,0.1,174,5,17,1371,1426,3891,12,9,18,0,0,1\\r\\n685,553,1,0.5,1,2,1,8,0.5,153,4,3,525,1601,1042,15,11,15,1,0,1\\r\\n686,1012,1,2.2,1,10,1,8,1,181,3,12,1176,1496,2141,18,14,15,1,1,0\\r\\n687,823,0,2.5,0,11,1,24,0.5,195,5,15,1364,1516,2279,6,4,3,1,0,1\\r\\n688,1928,0,0.5,1,5,0,44,0.9,109,8,19,701,1156,3828,9,4,12,1,0,0\\r\\n689,804,0,1.5,0,5,1,12,1,183,1,10,1805,1978,2310,10,8,13,1,0,0\\r\\n690,1517,0,1.6,1,0,1,42,0.7,101,3,1,483,1814,2162,9,0,18,1,1,0\\r\\n691,1500,0,2.8,1,7,0,39,0.1,176,8,11,808,1889,1988,10,6,10,1,0,0\\r\\n692,1425,1,1.2,0,4,1,37,0.7,135,7,6,666,1220,2786,17,1,19,1,0,0\\r\\n693,547,0,2.4,1,4,1,3,0.4,197,8,5,98,1506,1972,11,5,3,1,1,0\\r\\n694,1886,0,3,0,13,1,26,0.5,115,1,17,339,1670,1828,5,3,15,1,1,0\\r\\n695,1804,1,0.5,0,1,1,4,0.5,111,1,13,1235,1255,3286,17,8,17,1,0,0\\r\\n696,685,0,2.2,1,2,1,2,0.4,172,3,6,295,558,1282,7,6,10,1,1,1\\r\\n697,1352,0,0.5,1,8,1,22,0.9,111,2,12,346,682,1562,16,5,11,1,0,0\\r\\n698,1785,1,2.5,0,0,0,18,0.1,180,4,1,116,518,1202,12,4,18,0,0,1\\r\\n699,1300,0,1.9,1,4,0,61,0.5,143,6,5,353,758,2262,16,11,10,0,0,0\\r\\n700,1184,1,2.1,0,2,1,33,0.5,199,8,5,483,1598,2828,6,4,15,1,1,1\\r\\n701,1180,0,2.3,1,7,1,24,0.2,198,2,16,486,1671,2025,8,0,19,1,0,0\\r\\n702,886,1,0.9,1,13,1,2,0.6,102,4,15,287,695,621,11,4,7,1,1,0\\r\\n703,1309,0,1.5,0,9,1,12,0.9,98,6,20,871,1484,293,15,0,9,1,1,0\\r\\n704,744,0,0.5,0,1,0,38,0.3,188,3,5,846,1701,2001,15,13,17,1,1,0\\r\\n705,1408,1,2,1,1,1,59,0.9,172,6,3,744,1211,393,15,11,16,1,0,1\\r\\n706,734,1,2.7,1,1,1,32,0.8,93,8,5,138,1042,714,13,7,16,1,0,1\\r\\n707,500,0,1.4,0,0,0,28,0.4,128,3,1,1010,1854,3460,9,3,3,1,1,1\\r\\n708,1745,0,2.8,1,0,0,45,0.7,186,1,0,699,766,1019,6,4,5,0,1,0\\r\\n709,1296,1,1,1,6,0,43,0.2,171,3,13,501,609,1692,15,0,18,1,0,0\\r\\n710,1256,0,0.5,0,15,1,51,0.6,83,2,18,436,1308,2213,13,9,12,1,1,0\\r\\n711,782,1,1.8,1,8,0,20,0.6,109,5,19,406,1025,655,17,4,13,0,1,0\\r\\n712,965,1,0.8,0,5,0,24,0.7,105,4,7,403,718,1567,5,0,8,0,0,0\\r\\n713,652,1,2.9,1,4,1,14,0.2,196,6,18,248,1487,1706,12,4,5,1,0,0\\r\\n714,1847,0,2.8,1,6,0,29,0.7,112,7,13,1236,1374,1017,16,7,11,1,1,0\\r\\n715,1363,1,2.1,1,9,1,46,0.5,120,4,19,1247,1338,2951,7,0,3,1,0,0\\r\\n716,1946,0,0.5,0,0,1,39,0.4,112,5,1,198,1045,533,18,14,17,1,1,1\\r\\n717,1701,1,1.6,1,2,1,53,0.8,88,6,14,1281,1776,3340,14,11,19,1,1,0\\r\\n718,1754,1,0.5,1,13,0,38,0.9,83,6,20,141,808,2765,6,4,7,1,1,0\\r\\n719,1938,0,2.9,0,0,1,37,1,94,4,1,1001,1714,3881,5,1,14,1,1,0\\r\\n720,992,1,2.6,1,10,0,52,0.3,107,7,12,663,1521,332,14,9,7,0,0,1\\r\\n721,897,0,2.4,1,7,1,38,0.8,110,2,9,1610,1612,519,6,5,7,1,1,0\\r\\n722,1423,1,0.5,1,7,0,58,0.9,112,3,9,993,1295,1683,15,13,16,0,1,1\\r\\n723,1343,0,0.5,1,6,1,23,0.4,97,5,17,643,817,2629,13,7,11,1,0,1\\r\\n724,761,1,2.6,0,5,1,52,0.8,141,3,18,883,985,2587,11,5,6,1,1,1\\r\\n725,1742,0,1.4,1,3,1,20,0.1,134,8,6,392,831,1828,18,7,13,1,1,1\\r\\n726,1181,1,0.8,1,0,1,51,0.9,198,5,5,71,586,608,15,10,19,1,0,0\\r\\n727,1754,0,1.7,1,1,1,58,0.9,197,3,17,823,1035,1446,18,3,2,1,1,1\\r\\n728,1315,1,0.5,1,0,1,58,0.8,86,2,3,245,1064,2258,17,2,16,1,1,0\\r\\n729,649,0,2.9,0,0,0,38,0.5,130,1,10,893,1185,558,8,4,11,1,1,1\\r\\n730,1967,1,0.6,0,2,0,25,1,109,6,9,108,751,1666,9,7,18,1,1,1\\r\\n731,926,0,1.7,0,2,0,12,0.8,179,2,9,801,880,2244,14,8,14,0,0,1\\r\\n732,933,0,1.8,1,9,0,33,0.2,191,8,19,129,925,758,14,13,8,0,0,0\\r\\n733,913,0,1.7,1,12,0,58,0.2,200,5,14,849,1993,1061,17,12,5,0,0,0\\r\\n734,1651,0,0.5,0,1,1,57,0.2,193,1,6,697,924,3421,9,0,15,1,1,1\\r\\n735,1154,1,1.7,0,5,1,42,0.5,117,5,7,1068,1851,3950,17,14,19,1,1,0\\r\\n736,1181,1,1.6,1,5,1,32,0.2,181,1,16,450,623,1435,11,10,13,1,1,0\\r\\n737,1933,0,0.5,1,0,0,63,0.4,181,8,6,242,668,3142,14,3,16,1,1,1\\r\\n738,1341,0,1.4,0,8,1,38,1,170,5,10,601,937,1579,16,4,19,1,0,1\\r\\n739,534,1,1.5,1,3,1,3,0.3,89,1,8,45,517,2987,18,0,16,1,0,1\\r\\n740,1324,1,0.9,1,7,1,28,0.7,95,6,8,1243,1928,3269,12,3,19,1,1,1\\r\\n741,1803,1,2.6,0,7,1,9,0.9,112,2,12,156,1289,406,9,3,5,1,0,0\\r\\n742,1888,1,2.7,0,1,1,53,0.1,146,4,3,81,630,1604,10,6,6,1,1,1\\r\\n743,1540,0,1,0,4,1,40,0.4,162,5,7,93,1644,793,12,7,3,1,0,0\\r\\n744,1590,1,2.4,0,5,0,15,0.9,157,8,6,945,1015,1983,13,10,11,1,0,0\\r\\n745,1183,0,0.5,1,11,0,24,0.6,130,2,16,19,769,2637,16,1,6,1,1,1\\r\\n746,1774,1,0.5,1,1,0,45,0.8,145,4,16,217,1159,879,10,0,3,0,0,0\\r\\n747,1159,0,2.1,0,2,1,27,0.7,137,1,15,1526,1805,3258,8,0,2,1,0,0\\r\\n748,723,1,1.9,1,0,1,10,0.5,159,1,3,303,779,2380,12,4,16,1,0,0\\r\\n749,543,0,0.9,0,3,1,6,0.4,91,1,9,272,1317,564,8,5,12,1,0,1\\r\\n750,1348,1,0.5,1,18,0,40,0.1,148,1,20,539,665,3543,12,1,11,0,0,0\\r\\n751,1836,0,0.6,0,18,1,57,0.8,111,5,20,169,876,1039,5,3,8,1,1,1\\r\\n752,1290,0,1.3,0,0,0,31,0.7,117,8,0,599,750,1895,11,9,12,0,1,1\\r\\n753,645,1,2.9,1,3,0,5,0.1,185,3,6,446,1573,1315,11,1,4,1,0,0\\r\\n754,1654,0,2,0,2,0,58,0.7,119,7,3,460,1733,2801,8,0,5,1,0,0\\r\\n755,1156,1,2.3,1,0,1,3,1,95,2,0,1094,1518,3786,11,1,2,1,1,0\\r\\n756,1341,1,2.6,0,4,0,43,0.4,194,6,8,1096,1683,3065,6,5,11,0,1,0\\r\\n757,1427,0,0.6,0,8,1,40,0.8,121,8,12,249,1541,2338,10,8,4,1,0,0\\r\\n758,1541,0,1.6,0,1,1,7,0.5,143,8,14,287,1791,3137,9,0,11,1,1,0\\r\\n759,1693,1,1.4,0,9,0,41,0.1,139,2,17,181,1760,575,16,5,20,0,0,1\\r\\n760,1567,0,3,0,13,0,23,0.6,178,3,18,995,1215,3600,16,11,9,1,1,1\\r\\n761,1564,0,1.7,0,5,0,35,0.9,173,4,6,186,1210,2545,18,6,4,1,1,1\\r\\n762,1787,0,1.1,0,4,0,11,0.4,103,7,9,35,757,541,14,11,13,1,1,1\\r\\n763,770,1,0.6,0,12,1,33,0.4,90,2,14,128,657,1686,18,2,18,1,0,1\\r\\n764,1748,1,0.8,0,1,0,7,0.5,189,7,4,196,802,989,12,7,8,0,1,0\\r\\n765,1859,0,0.5,1,0,1,47,0.1,85,7,0,35,1706,2691,14,13,19,1,0,1\\r\\n766,975,1,0.9,0,5,0,6,0.6,163,6,17,769,1669,3787,8,7,18,0,0,0\\r\\n767,1597,0,0.9,1,2,1,10,0.6,172,7,5,1455,1670,2138,12,7,18,1,0,0\\r\\n768,1941,0,2.3,1,9,0,42,0.7,108,4,12,36,726,763,13,3,14,0,1,1\\r\\n769,1061,0,2.6,1,6,0,49,0.6,133,7,20,1009,1222,2260,19,16,2,0,0,1\\r\\n770,1620,1,2,1,7,1,11,0.5,191,4,11,495,1668,1732,13,2,13,1,0,1\\r\\n771,1366,1,1.3,0,5,0,51,1,129,3,15,875,1760,2716,17,15,2,0,1,0\\r\\n772,1324,0,1.7,1,9,0,46,0.1,107,2,19,59,553,1424,16,7,13,1,0,0\\r\\n773,1363,1,2.6,1,1,1,39,0.2,129,5,2,550,1248,267,6,1,15,1,1,0\\r\\n774,1570,1,2.8,0,0,1,18,0.4,148,5,13,509,544,3153,6,2,7,1,1,1\\r\\n775,1524,0,2.1,1,6,1,64,0.4,83,5,16,351,592,2905,6,1,2,1,1,1\\r\\n776,1179,0,2.1,0,0,0,2,0.3,93,3,0,481,536,1435,19,13,2,0,1,0\\r\\n777,1555,0,0.5,1,8,1,2,0.9,90,2,11,57,516,3596,11,6,6,1,1,1\\r\\n778,981,1,0.5,1,1,0,15,0.5,159,5,10,74,1485,1831,17,10,7,1,1,1\\r\\n779,1920,1,2.5,0,6,1,8,0.4,194,1,7,588,1125,2099,10,5,4,1,1,1\\r\\n780,1470,0,0.5,0,0,0,54,0.1,84,6,1,556,1512,1790,16,7,19,0,1,1\\r\\n781,1986,0,0.8,0,5,1,13,0.2,108,8,7,757,1962,1190,7,5,17,1,1,0\\r\\n782,1371,0,2.8,1,2,1,19,0.6,94,4,3,1023,1676,1767,6,1,8,1,0,1\\r\\n783,1852,0,1.6,1,5,1,25,0.1,85,3,15,588,1353,3199,8,4,4,1,0,0\\r\\n784,1472,0,1.4,1,7,0,6,0.1,182,8,10,861,1131,1621,17,0,19,1,0,1\\r\\n785,1055,1,1.2,1,18,1,29,0.8,101,6,19,159,579,2364,13,3,3,1,1,1\\r\\n786,1371,1,2.1,1,0,0,3,0.3,173,2,12,35,785,2202,15,14,5,1,1,1\\r\\n787,782,0,1.1,0,0,1,38,0.4,199,7,2,349,1910,2753,14,13,20,1,0,1\\r\\n788,1452,1,0.9,1,6,1,36,0.5,82,5,12,667,1680,1005,12,4,15,1,0,1\\r\\n789,519,1,2,1,11,1,33,0.7,135,1,12,527,889,889,19,3,9,1,1,0\\r\\n790,1989,0,1.8,1,16,1,10,0.9,86,3,18,135,576,2158,14,8,4,1,0,0\\r\\n791,1754,0,1.6,0,0,0,15,0.1,166,5,1,318,1810,1966,12,7,7,1,0,0\\r\\n792,1329,0,1,0,3,1,42,0.1,144,7,4,579,896,774,14,8,10,1,1,1\\r\\n793,1093,0,1.1,1,0,0,42,0.4,114,1,4,762,1425,2856,12,3,2,0,0,1\\r\\n794,986,1,2.2,1,5,1,38,0.3,95,7,9,5,1359,343,15,13,12,1,1,0\\r\\n795,848,0,1.1,1,7,1,39,0.4,107,4,16,1768,1812,475,18,4,16,1,0,0\\r\\n796,1146,0,0.5,1,4,1,21,0.5,152,7,6,841,994,1182,15,2,19,1,0,0\\r\\n797,841,1,0.5,0,0,0,59,0.2,103,6,16,258,1642,1169,8,6,10,0,0,0\\r\\n798,1140,1,0.9,1,0,0,40,0.1,119,3,1,211,555,3386,13,4,2,1,0,0\\r\\n799,1091,1,1.8,1,4,0,8,0.5,100,3,8,650,922,3626,5,0,14,1,1,1\\r\\n800,1360,0,0.7,0,8,1,25,0.4,108,7,20,493,681,3934,16,4,5,1,0,0\\r\\n801,1038,0,1,0,2,0,28,0.2,154,4,6,1019,1246,3913,11,1,16,1,1,0\\r\\n802,1111,0,2.5,1,4,0,46,0.4,152,1,11,110,1981,851,14,8,2,0,0,0\\r\\n803,1220,0,0.5,1,8,0,52,0.8,121,3,19,892,1470,1458,18,12,19,0,1,1\\r\\n804,1636,1,1.8,0,9,0,52,0.9,188,5,11,555,635,2363,13,0,9,0,0,1\\r\\n805,1800,1,1.6,1,2,0,23,0.8,187,2,8,179,1137,1966,15,2,7,0,0,0\\r\\n806,674,1,2.4,0,5,0,49,0.6,130,1,9,4,1936,2179,8,0,20,1,1,0\\r\\n807,1591,1,2.4,0,4,0,3,0.5,192,8,5,669,700,615,19,6,12,1,0,1\\r\\n808,1190,0,0.8,0,5,0,61,0.6,145,3,16,345,1044,305,7,0,14,0,1,0\\r\\n809,572,0,2.8,0,4,1,35,0.2,99,6,5,563,1539,3106,12,1,16,1,0,0\\r\\n810,1143,1,2.9,0,0,0,64,1,143,8,0,381,535,2080,16,5,15,0,1,1\\r\\n811,1492,0,0.5,0,13,0,36,0.4,185,1,16,444,1764,592,10,7,18,0,0,1\\r\\n812,1825,1,2.3,0,9,1,27,0.8,163,8,11,48,1005,2502,15,11,2,1,0,1\\r\\n813,1450,1,2.4,0,2,1,45,0.6,83,5,8,221,648,941,13,12,7,1,0,1\\r\\n814,1629,1,2.3,0,4,0,48,0.4,121,1,8,1260,1634,2532,5,4,14,1,0,0\\r\\n815,669,0,0.5,1,0,0,46,0.7,144,2,0,486,1854,2981,17,7,14,0,0,1\\r\\n816,575,1,1.1,0,2,0,10,0.2,163,5,11,615,1825,2956,17,7,20,1,0,1\\r\\n817,900,1,2.8,0,3,0,56,0.9,112,4,18,638,721,2281,8,2,14,1,1,1\\r\\n818,1057,1,0.5,0,4,1,42,0.7,112,7,7,809,824,2688,6,3,3,1,0,0\\r\\n819,1247,0,0.8,1,16,0,24,0.8,116,5,20,1114,1350,522,9,2,20,0,1,1\\r\\n820,1992,1,1.3,1,8,1,43,1,153,5,15,0,883,2179,7,6,20,1,1,0\\r\\n821,974,0,2.1,0,1,1,17,0.7,162,4,3,346,514,1901,16,0,9,1,0,1\\r\\n822,1715,1,0.5,1,8,1,47,0.4,116,8,9,900,1219,3163,18,15,11,1,0,1\\r\\n823,1570,0,0.5,0,15,1,26,0.6,157,2,20,319,1406,426,8,0,11,1,0,0\\r\\n824,1724,0,2,1,1,0,21,0.2,105,2,8,102,1609,695,16,0,12,1,1,0\\r\\n825,1886,1,1.6,0,0,1,47,0.1,180,5,6,362,1606,3287,12,3,17,1,0,1\\r\\n826,1177,0,2.4,1,7,1,38,0.7,162,6,16,1228,1975,1880,16,4,18,1,1,1\\r\\n827,1036,0,1.4,1,6,1,37,0.5,184,7,10,416,523,3864,5,2,13,1,1,1\\r\\n828,1336,1,2.6,0,7,0,26,0.5,83,5,17,238,1402,325,8,2,9,1,0,0\\r\\n829,1004,0,1.9,0,12,0,24,0.8,128,8,17,793,1537,650,6,0,17,0,1,0\\r\\n830,1123,1,2.9,1,10,0,5,0.1,145,3,15,670,1557,2567,11,8,10,0,1,1\\r\\n831,1730,0,1.3,1,2,1,48,0.4,198,2,13,1445,1934,2452,8,2,11,1,1,1\\r\\n832,1890,0,2.1,1,13,1,17,0.5,127,4,17,973,1546,2585,5,2,14,1,1,1\\r\\n833,1055,1,3,1,1,0,56,0.6,111,7,8,806,861,1532,5,0,13,1,0,0\\r\\n834,805,1,2.4,1,2,0,59,0.7,110,1,3,900,1984,2917,12,2,20,1,1,0\\r\\n835,608,0,1.3,1,15,1,2,0.4,139,3,16,98,643,3635,13,4,8,1,0,0\\r\\n836,1130,0,0.6,0,5,0,51,0.5,175,8,12,296,585,2098,5,2,18,1,0,0\\r\\n837,1208,1,0.7,0,8,0,13,0.9,86,3,18,763,865,484,11,9,3,1,1,1\\r\\n838,535,0,1.3,0,1,0,53,0.5,151,7,3,313,744,720,10,2,16,0,1,0\\r\\n839,1191,1,1.7,0,1,0,7,0.4,102,3,2,1354,1418,2734,18,5,15,1,1,0\\r\\n840,922,0,2.7,1,0,1,3,0.5,100,4,0,253,1364,3910,18,8,10,1,0,0\\r\\n841,966,1,0.5,0,3,0,37,0.7,123,3,7,1390,1896,817,6,5,20,1,0,0\\r\\n842,1351,1,0.7,0,10,0,48,0.5,134,8,16,700,727,3781,15,0,5,0,0,1\\r\\n843,732,0,1.3,1,12,1,48,0.5,141,4,16,663,1813,832,18,10,4,1,0,0\\r\\n844,1005,0,2,1,9,1,11,0.8,132,1,16,218,1123,939,11,4,8,1,1,1\\r\\n845,1575,1,2.4,1,2,0,22,0.7,81,2,7,142,1160,1091,16,8,7,0,0,1\\r\\n846,1427,0,2.8,1,10,1,11,0.5,155,1,14,169,1784,2417,9,3,8,1,1,0\\r\\n847,1306,1,2.9,0,5,0,26,0.9,145,4,12,67,1247,2552,17,0,8,0,0,1\\r\\n848,1911,1,1.1,0,3,0,25,0.4,106,5,12,426,659,1251,11,0,2,1,0,0\\r\\n849,1170,1,2.2,0,4,1,63,0.7,83,1,5,442,1905,2658,11,10,11,1,0,1\\r\\n850,1278,0,1.5,1,6,0,64,0.2,146,8,13,764,1521,339,6,1,12,0,1,0\\r\\n851,1709,0,0.5,0,0,1,55,0.8,144,3,3,235,1310,3124,15,7,19,1,1,0\\r\\n852,1904,0,0.8,1,2,1,27,0.6,198,6,7,1102,1442,2387,5,4,19,1,0,1\\r\\n853,1741,1,0.5,1,6,0,37,0.7,183,1,16,9,1562,1415,17,9,10,0,0,1\\r\\n854,1288,1,0.5,1,0,0,48,0.5,92,6,3,793,1021,2465,5,4,16,0,1,0\\r\\n855,1976,0,2.5,1,4,0,33,0.7,196,3,15,1014,1131,2947,16,11,4,1,1,1\\r\\n856,1270,0,0.5,0,1,1,62,0.5,142,4,2,566,695,3747,18,13,8,1,0,1\\r\\n857,1246,0,1.6,1,0,0,52,0.6,187,8,4,522,818,552,7,3,8,1,1,1\\r\\n858,1544,1,0.5,1,12,1,20,0.9,144,5,14,588,1414,1826,11,10,5,1,0,0\\r\\n859,671,0,0.5,0,1,0,38,0.1,105,8,5,605,722,2210,6,1,18,0,1,1\\r\\n860,582,1,2.3,1,6,1,51,0.9,156,4,14,1241,1367,2587,6,3,18,1,1,0\\r\\n861,1951,0,2.1,0,5,0,22,0.5,132,6,6,1044,1663,945,16,5,4,1,0,1\\r\\n862,822,0,1.1,1,2,0,44,0.9,146,2,4,269,527,3288,8,5,17,1,1,0\\r\\n863,733,1,0.5,1,9,1,63,0.1,153,4,10,715,993,3003,12,9,12,1,0,1\\r\\n864,820,1,0.5,1,10,1,15,0.3,149,8,12,165,532,702,6,0,19,1,1,0\\r\\n865,1455,0,2.2,1,8,1,19,0.3,174,4,10,91,628,2029,8,0,10,1,0,0\\r\\n866,1723,1,0.6,1,1,0,57,0.3,122,5,19,1373,1572,3138,12,8,11,0,1,0\\r\\n867,1869,0,1.6,0,2,1,60,1,124,6,16,520,566,1521,14,8,18,1,1,0\\r\\n868,1670,0,0.5,0,1,1,33,0.9,127,2,3,185,807,1830,5,0,6,1,1,1\\r\\n869,1734,0,1.4,1,8,0,57,0.5,188,4,15,573,584,3822,9,4,6,0,1,1\\r\\n870,602,0,2.5,0,7,1,59,0.3,166,4,11,76,637,1914,11,2,10,1,1,0\\r\\n871,1060,0,2.5,1,6,1,31,0.6,162,1,11,582,1212,2819,10,4,16,1,1,1\\r\\n872,1445,1,1.4,0,11,1,8,0.7,164,4,14,772,1766,3120,7,3,15,1,0,0\\r\\n873,1005,1,1.6,1,6,0,32,0.6,199,7,13,883,1750,2119,14,9,5,1,1,1\\r\\n874,536,0,0.5,0,8,1,27,0.3,108,1,13,1573,1962,1676,14,7,20,1,0,1\\r\\n875,1255,0,1.1,0,0,1,34,0.2,85,3,1,118,722,1749,19,17,8,1,1,1\\r\\n876,1252,1,2.6,1,1,1,43,0.8,124,1,3,153,538,2447,18,15,11,1,0,0\\r\\n877,1471,1,2,0,0,1,54,0.7,127,8,0,193,1134,3315,17,1,4,1,0,1\\r\\n878,914,1,2.3,1,0,1,47,0.5,119,3,3,727,796,3402,14,10,5,1,0,1\\r\\n879,1439,1,2.6,1,3,1,14,0.3,101,8,6,686,716,763,5,3,4,1,0,0\\r\\n880,732,1,0.5,0,6,0,60,0.1,92,4,9,670,1025,3065,19,12,14,0,1,1\\r\\n881,1025,1,1.9,0,3,1,38,0.7,138,7,5,108,1238,3530,5,0,11,1,1,0\\r\\n882,842,0,2.7,1,18,0,31,0.4,161,1,20,45,1634,496,14,1,14,1,1,0\\r\\n883,643,1,1.8,1,0,0,28,0.4,199,1,20,532,1273,2885,8,6,5,0,0,1\\r\\n884,667,0,0.7,1,8,0,23,0.8,136,4,14,666,1372,3720,19,10,10,1,1,0\\r\\n885,1791,1,2.3,0,5,0,29,0.9,196,1,6,1039,1602,2500,10,7,2,1,1,0\\r\\n886,1104,0,0.5,1,2,0,57,0.6,129,5,15,1591,1750,2254,14,7,16,1,1,0\\r\\n887,1276,1,3,0,5,1,33,0.6,136,4,13,15,1719,2395,11,1,10,1,1,0\\r\\n888,927,0,1.2,1,2,1,22,0.1,162,2,3,1106,1692,3741,7,4,5,1,0,1\\r\\n889,859,0,1.1,1,11,1,19,0.5,139,5,16,952,1713,2473,10,4,17,1,1,1\\r\\n890,1162,1,2.9,1,2,0,57,0.3,146,7,19,9,555,1316,10,2,3,1,0,1\\r\\n891,1876,0,2.4,0,11,0,22,0.7,168,2,18,157,1512,1403,15,11,13,1,0,0\\r\\n892,1057,0,2.7,1,3,0,36,0.7,105,3,11,1318,1351,2521,19,15,6,0,1,1\\r\\n893,1926,0,1.8,0,1,0,15,0.9,86,2,5,523,1699,735,5,2,8,0,1,0\\r\\n894,853,0,0.6,1,3,1,40,0.7,166,4,9,476,1382,2510,8,3,6,1,1,0\\r\\n895,1949,1,1.5,0,1,1,7,0.5,175,8,19,525,1419,1406,5,1,8,1,1,0\\r\\n896,1981,0,0.5,0,3,0,38,0.2,103,5,10,282,1051,1392,5,0,11,0,0,0\\r\\n897,1556,1,2.9,1,5,1,21,0.5,197,3,19,902,1451,1969,11,3,15,1,1,0\\r\\n898,660,1,0.7,1,3,0,12,0.4,161,8,14,506,799,3549,19,18,12,1,0,1\\r\\n899,1955,1,1.4,0,1,0,30,0.2,91,6,2,220,759,2340,9,0,12,1,1,1\\r\\n900,1567,0,0.6,1,6,0,63,0.8,83,5,13,635,1112,1777,6,3,19,1,1,0\\r\\n901,1307,0,2.1,0,5,0,44,0.1,189,5,6,530,1203,2402,5,4,19,0,1,0\\r\\n902,1421,1,2.9,0,2,0,43,0.2,130,4,11,1516,1556,845,14,6,4,0,0,0\\r\\n903,1332,0,2.4,0,0,0,44,0.9,81,8,1,748,832,1176,16,10,10,0,1,1\\r\\n904,1628,1,1.4,1,4,0,3,0.4,184,6,20,436,1653,1624,11,1,19,0,0,0\\r\\n905,1752,0,2.6,1,8,1,17,0.4,115,5,10,1165,1540,3323,19,11,16,1,1,1\\r\\n906,1733,0,0.5,0,2,0,20,0.5,156,8,3,419,1806,1197,8,7,10,0,1,0\\r\\n907,1081,1,1.2,0,7,0,51,0.2,194,2,11,39,1852,412,16,4,7,1,0,0\\r\\n908,854,1,2.6,1,1,1,45,0.5,162,6,12,49,1146,2317,12,5,18,1,1,1\\r\\n909,1657,0,2.6,1,3,1,22,0.5,87,4,20,1019,1535,1852,15,5,12,1,1,0\\r\\n910,1053,0,2.1,0,4,0,12,0.1,95,7,7,6,1089,3701,13,1,17,0,1,0\\r\\n911,1370,0,2.9,0,2,1,24,0.3,100,5,3,804,992,1672,10,4,4,1,0,0\\r\\n912,1652,1,1.5,1,1,0,57,0.1,175,6,17,555,714,489,12,2,2,1,1,1\\r\\n913,915,0,2.8,1,4,0,22,1,174,5,12,748,1840,572,7,1,10,1,1,1\\r\\n914,1272,1,0.5,0,1,1,50,0.7,129,8,18,377,1970,2969,15,2,10,1,0,1\\r\\n915,646,1,2.3,1,15,1,10,0.9,180,8,17,673,1135,3005,14,0,5,1,0,1\\r\\n916,1359,1,0.9,1,6,0,40,0.1,182,2,7,130,1030,2805,19,14,18,0,1,1\\r\\n917,1691,0,0.5,0,0,0,24,0.3,119,1,3,762,1643,2900,16,5,19,1,0,0\\r\\n918,796,1,1.5,1,3,0,62,0.7,99,8,12,214,843,434,16,2,16,0,1,1\\r\\n919,534,1,1.9,1,1,1,60,0.2,159,1,18,1216,1847,3599,10,4,8,1,0,1\\r\\n920,721,1,2.6,1,1,0,39,0.6,168,2,2,629,1509,3372,5,1,6,0,0,0\\r\\n921,675,1,2.8,0,11,0,44,0.1,169,5,20,135,1109,2980,15,12,6,1,1,1\\r\\n922,1182,1,1.4,1,5,1,21,0.5,107,2,17,625,1346,1765,13,5,6,1,1,0\\r\\n923,1062,1,2.9,1,3,1,12,0.3,152,2,10,1041,1280,3664,9,6,4,1,1,1\\r\\n924,732,1,0.5,0,1,1,7,0.4,113,6,2,367,968,1423,13,2,19,1,1,1\\r\\n925,781,1,0.9,1,0,0,62,0.1,94,2,1,1117,1667,1442,9,0,16,1,0,1\\r\\n926,790,1,1,1,9,1,45,0.1,200,6,20,1068,1577,3184,17,5,13,1,0,1\\r\\n927,1480,1,0.9,0,0,0,62,0.9,199,1,0,464,868,1780,18,14,4,1,1,1\\r\\n928,946,1,1,0,13,0,56,0.7,128,6,14,349,541,2565,17,10,7,0,0,0\\r\\n929,1545,1,1.7,0,1,1,59,0.7,183,3,20,148,721,1443,8,2,16,1,0,1\\r\\n930,898,0,2.7,0,0,0,16,0.2,81,4,4,139,1660,2286,5,0,4,1,0,0\\r\\n931,1662,0,0.5,0,0,0,48,0.8,155,6,2,875,1362,2787,12,7,19,1,0,1\\r\\n932,1056,0,2.2,0,6,0,2,0.4,166,6,13,527,825,3215,16,8,6,1,0,1\\r\\n933,1074,0,1.4,1,0,1,17,0.7,115,1,6,689,1628,401,18,11,12,1,1,0\\r\\n934,1772,1,0.5,0,0,1,55,0.5,149,5,0,405,727,3346,17,2,18,1,1,1\\r\\n935,694,1,0.5,1,6,0,3,0.8,107,3,10,1345,1514,991,11,3,19,0,1,0\\r\\n936,1387,1,1,0,0,1,3,0.9,154,6,5,75,655,2909,19,1,4,1,1,0\\r\\n937,1259,1,1,1,7,1,6,0.1,110,7,11,1611,1923,2897,16,14,19,1,0,0\\r\\n938,1066,1,2.4,0,6,0,23,0.6,173,3,7,870,1026,896,12,9,10,0,0,1\\r\\n939,940,1,2,1,7,1,24,0.6,81,1,15,955,1845,2971,10,0,6,1,0,1\\r\\n940,1517,1,2.2,1,11,0,19,0.3,179,2,16,291,1592,1972,11,0,13,0,0,1\\r\\n941,986,0,1.4,1,6,1,29,0.2,122,7,10,1907,1911,2742,17,12,15,1,0,0\\r\\n942,1595,1,1.1,0,4,1,31,0.1,101,3,7,824,1052,2875,16,13,13,1,1,0\\r\\n943,708,0,2.4,1,0,0,56,0.7,104,7,1,999,1695,1920,7,3,11,1,1,0\\r\\n944,726,1,0.5,1,1,1,6,0.7,183,5,2,114,628,1653,8,5,17,1,0,1\\r\\n945,761,1,0.5,0,4,1,5,0.8,181,1,17,562,829,3111,5,3,14,1,0,0\\r\\n946,643,0,2.6,0,0,1,8,0.3,115,4,4,724,1175,3740,8,7,13,1,0,1\\r\\n947,871,1,1.7,1,0,0,56,0.6,124,6,2,483,1045,1794,13,4,4,1,1,0\\r\\n948,1347,0,2.1,1,4,0,44,0.8,97,2,14,137,792,399,16,2,10,1,1,0\\r\\n949,1659,0,2.7,0,18,0,64,0.7,83,2,19,727,1979,1778,10,9,13,1,0,1\\r\\n950,1259,0,1.2,0,0,1,61,0.5,82,5,15,1001,1158,1415,10,1,2,1,1,0\\r\\n951,544,0,1.6,0,5,1,39,0.1,91,6,7,101,718,3262,19,7,19,1,1,0\\r\\n952,1570,0,0.6,0,7,0,12,0.2,141,8,13,487,517,1895,18,11,5,0,0,1\\r\\n953,690,0,2.9,0,8,0,38,0.9,154,1,10,711,750,3427,13,6,20,0,0,0\\r\\n954,1053,0,2.5,1,12,1,3,0.6,86,4,19,910,1097,792,17,6,7,1,0,1\\r\\n955,1772,0,2.4,1,5,0,8,0.1,135,3,13,1337,1544,2297,8,6,4,1,0,1\\r\\n956,1891,1,1.3,1,10,1,23,0.4,158,2,17,518,1357,2610,9,5,10,1,0,0\\r\\n957,937,1,1.5,0,2,1,44,0.8,133,4,6,919,1782,493,9,7,15,1,0,1\\r\\n958,913,0,2.9,0,13,1,34,0.7,183,4,19,578,1726,2800,7,2,9,1,1,0\\r\\n959,1066,1,0.9,0,4,0,43,0.4,101,6,11,876,880,3856,14,0,6,1,0,1\\r\\n960,840,1,1.6,1,0,0,7,0.9,147,2,3,98,674,3327,19,6,12,0,0,1\\r\\n961,710,1,2.3,1,1,1,24,0.4,153,2,3,1714,1895,3678,18,4,18,1,1,1\\r\\n962,623,1,0.5,1,5,1,29,0.9,134,3,10,273,1814,717,12,5,13,1,0,0\\r\\n963,700,1,1.3,0,2,0,40,0.1,150,8,11,612,1325,2537,15,10,8,1,1,1\\r\\n964,995,0,2.6,1,4,0,7,0.8,157,1,6,1315,1804,1272,16,6,8,0,1,1\\r\\n965,1325,0,1.3,1,10,1,33,0.9,165,1,12,1653,1967,726,10,2,12,1,1,1\\r\\n966,1982,1,2.6,1,7,1,43,0.3,113,4,8,1409,1679,1791,9,2,8,1,1,0\\r\\n967,1401,0,2.7,0,0,0,16,0.1,187,5,4,975,1028,2668,11,8,20,1,0,0\\r\\n968,636,1,2.6,1,7,1,55,0.3,183,2,14,762,1596,3558,10,7,10,1,1,1\\r\\n969,1637,1,0.6,1,12,1,57,0.5,111,8,17,7,940,3329,11,9,6,1,1,0\\r\\n970,1036,0,0.9,0,16,0,9,0.2,119,3,18,70,502,299,11,8,16,1,1,0\\r\\n971,1247,1,2.1,0,10,1,63,0.1,116,4,12,170,1028,2999,9,3,20,1,1,0\\r\\n972,1207,0,1.1,1,9,1,56,0.1,141,6,11,93,560,2293,12,4,19,1,1,0\\r\\n973,1198,1,0.5,1,0,0,31,0.6,125,7,7,546,1223,2777,16,3,20,1,0,0\\r\\n974,1796,1,0.5,0,0,0,44,0.2,169,4,4,841,1803,1378,12,0,13,1,0,1\\r\\n975,1855,0,1,1,8,0,58,0.9,145,4,14,1080,1883,2834,14,2,3,1,1,0\\r\\n976,1557,1,1.6,0,7,0,26,0.3,154,5,14,665,1790,885,17,2,5,0,1,1\\r\\n977,958,0,0.5,1,0,1,47,0.7,116,8,0,300,501,1706,6,2,2,1,1,0\\r\\n978,1882,1,2.1,1,0,0,17,0.1,127,8,5,280,1171,2996,9,6,3,1,0,0\\r\\n979,1489,0,0.5,1,7,0,60,0.8,197,7,10,7,719,677,5,2,11,1,0,1\\r\\n980,1980,0,0.5,1,7,0,15,0.4,141,6,12,499,1029,1710,11,2,11,1,1,0\\r\\n981,1235,0,1.8,1,3,0,21,0.5,197,3,4,1252,1284,464,14,2,17,0,1,1\\r\\n982,829,0,2.6,1,11,1,10,0.1,132,2,13,349,833,975,12,6,8,1,1,1\\r\\n983,1998,1,0.5,0,6,0,47,0.2,182,4,7,1603,1837,3918,9,4,9,1,0,1\\r\\n984,1814,0,1.6,0,6,1,3,0.7,156,5,16,1196,1666,2489,9,3,12,1,1,0\\r\\n985,1711,1,0.5,1,1,1,12,1,97,1,18,855,1199,2461,9,4,9,1,1,0\\r\\n986,971,1,2.1,0,9,0,7,0.3,143,4,17,1074,1885,811,18,2,13,1,1,0\\r\\n987,991,0,2.6,0,0,0,19,0.5,133,7,2,516,767,1358,16,14,20,0,1,0\\r\\n988,905,0,1.9,1,11,1,12,0.7,173,7,12,410,1021,852,19,0,3,1,1,0\\r\\n989,1653,1,1.3,0,0,0,49,0.7,99,7,4,206,936,377,9,7,10,1,0,0\\r\\n990,635,1,1.9,1,0,1,57,1,136,6,11,1257,1597,3954,15,4,20,1,1,0\\r\\n991,1807,0,1.2,0,4,0,37,0.8,162,1,11,246,932,2741,7,1,9,1,1,1\\r\\n992,1797,1,2.6,0,4,0,42,0.6,174,3,20,57,1169,3359,16,6,18,1,1,1\\r\\n993,1895,0,0.5,1,0,1,62,0.9,99,2,0,1019,1698,2563,10,8,13,1,0,1\\r\\n994,567,1,2.7,1,14,1,56,0.4,165,8,17,555,1290,336,7,6,7,1,1,1\\r\\n995,936,1,1.4,1,0,0,46,0.8,139,2,0,265,886,684,8,5,12,1,1,1\\r\\n996,1700,1,1.9,0,0,1,54,0.5,170,7,17,644,913,2121,14,8,15,1,1,0\\r\\n997,609,0,1.8,1,0,0,13,0.9,186,4,2,1152,1632,1933,8,1,19,0,1,1\\r\\n998,1185,0,1.4,0,1,1,8,0.5,80,1,12,477,825,1223,5,0,14,1,0,0\\r\\n999,1533,1,0.5,1,0,0,50,0.4,171,2,12,38,832,2509,15,11,6,0,1,0\\r\\n1000,1270,1,0.5,0,4,1,35,0.1,140,6,19,457,608,2828,9,2,3,1,0,1\\r\\n'}"
            ]
          },
          "metadata": {
            "tags": []
          },
          "execution_count": 160
        }
      ]
    },
    {
      "metadata": {
        "id": "Hiv6yOVlQd6I",
        "colab_type": "code",
        "colab": {
          "base_uri": "https://localhost:8080/",
          "height": 175
        },
        "outputId": "2ebaa42f-7ee4-4a3f-b0c8-17ed6906fc9a"
      },
      "cell_type": "code",
      "source": [
        "print(classification_report(y_test,pred))"
      ],
      "execution_count": 161,
      "outputs": [
        {
          "output_type": "stream",
          "text": [
            "             precision    recall  f1-score   support\n",
            "\n",
            "          0       0.98      0.99      0.98        91\n",
            "          1       0.99      0.93      0.96       106\n",
            "          2       0.94      0.97      0.96       105\n",
            "          3       0.97      0.99      0.98        98\n",
            "\n",
            "avg / total       0.97      0.97      0.97       400\n",
            "\n"
          ],
          "name": "stdout"
        }
      ]
    },
    {
      "metadata": {
        "id": "VCqvqyghQgoO",
        "colab_type": "code",
        "colab": {
          "base_uri": "https://localhost:8080/",
          "height": 87
        },
        "outputId": "a19eb44a-746f-4c36-adb3-ce31e7abcbad"
      },
      "cell_type": "code",
      "source": [
        "matrix=confusion_matrix(y_test,pred)\n",
        "print(matrix)"
      ],
      "execution_count": 162,
      "outputs": [
        {
          "output_type": "stream",
          "text": [
            "[[ 90   1   0   0]\n",
            " [  2  99   5   0]\n",
            " [  0   0 102   3]\n",
            " [  0   0   1  97]]\n"
          ],
          "name": "stdout"
        }
      ]
    },
    {
      "metadata": {
        "id": "1ylsYtITQm27",
        "colab_type": "code",
        "colab": {
          "base_uri": "https://localhost:8080/",
          "height": 446
        },
        "outputId": "3012f0a9-6d53-476f-8bee-f468e7e92a57"
      },
      "cell_type": "code",
      "source": [
        "plt.figure(figsize = (10,7))\n",
        "sns.heatmap(matrix,annot=True)"
      ],
      "execution_count": 163,
      "outputs": [
        {
          "output_type": "execute_result",
          "data": {
            "text/plain": [
              "<matplotlib.axes._subplots.AxesSubplot at 0x7fb50a4ee5f8>"
            ]
          },
          "metadata": {
            "tags": []
          },
          "execution_count": 163
        },
        {
          "output_type": "display_data",
          "data": {
            "image/png": "[encoded data removed]",
            "text/plain": [
              "<matplotlib.figure.Figure at 0x7fb50a4dde10>"
            ]
          },
          "metadata": {
            "tags": []
          }
        }
      ]
    },
    {
      "metadata": {
        "id": "-wzrGtEtQqYJ",
        "colab_type": "code",
        "colab": {
          "base_uri": "https://localhost:8080/",
          "height": 224
        },
        "outputId": "97852c9c-13fc-492a-d19d-5caf48569f36"
      },
      "cell_type": "code",
      "source": [
        "data_test=pd.read_csv('test.csv')\n",
        "data_test.head()"
      ],
      "execution_count": 164,
      "outputs": [
        {
          "output_type": "execute_result",
          "data": {
            "text/html": [
              "<div>\n",
              "<style scoped>\n",
              "    .dataframe tbody tr th:only-of-type {\n",
              "        vertical-align: middle;\n",
              "    }\n",
              "\n",
              "    .dataframe tbody tr th {\n",
              "        vertical-align: top;\n",
              "    }\n",
              "\n",
              "    .dataframe thead th {\n",
              "        text-align: right;\n",
              "    }\n",
              "</style>\n",
              "<table border=\"1\" class=\"dataframe\">\n",
              "  <thead>\n",
              "    <tr style=\"text-align: right;\">\n",
              "      <th></th>\n",
              "      <th>id</th>\n",
              "      <th>battery_power</th>\n",
              "      <th>blue</th>\n",
              "      <th>clock_speed</th>\n",
              "      <th>dual_sim</th>\n",
              "      <th>fc</th>\n",
              "      <th>four_g</th>\n",
              "      <th>int_memory</th>\n",
              "      <th>m_dep</th>\n",
              "      <th>mobile_wt</th>\n",
              "      <th>...</th>\n",
              "      <th>pc</th>\n",
              "      <th>px_height</th>\n",
              "      <th>px_width</th>\n",
              "      <th>ram</th>\n",
              "      <th>sc_h</th>\n",
              "      <th>sc_w</th>\n",
              "      <th>talk_time</th>\n",
              "      <th>three_g</th>\n",
              "      <th>touch_screen</th>\n",
              "      <th>wifi</th>\n",
              "    </tr>\n",
              "  </thead>\n",
              "  <tbody>\n",
              "    <tr>\n",
              "      <th>0</th>\n",
              "      <td>1</td>\n",
              "      <td>1043</td>\n",
              "      <td>1</td>\n",
              "      <td>1.8</td>\n",
              "      <td>1</td>\n",
              "      <td>14</td>\n",
              "      <td>0</td>\n",
              "      <td>5</td>\n",
              "      <td>0.1</td>\n",
              "      <td>193</td>\n",
              "      <td>...</td>\n",
              "      <td>16</td>\n",
              "      <td>226</td>\n",
              "      <td>1412</td>\n",
              "      <td>3476</td>\n",
              "      <td>12</td>\n",
              "      <td>7</td>\n",
              "      <td>2</td>\n",
              "      <td>0</td>\n",
              "      <td>1</td>\n",
              "      <td>0</td>\n",
              "    </tr>\n",
              "    <tr>\n",
              "      <th>1</th>\n",
              "      <td>2</td>\n",
              "      <td>841</td>\n",
              "      <td>1</td>\n",
              "      <td>0.5</td>\n",
              "      <td>1</td>\n",
              "      <td>4</td>\n",
              "      <td>1</td>\n",
              "      <td>61</td>\n",
              "      <td>0.8</td>\n",
              "      <td>191</td>\n",
              "      <td>...</td>\n",
              "      <td>12</td>\n",
              "      <td>746</td>\n",
              "      <td>857</td>\n",
              "      <td>3895</td>\n",
              "      <td>6</td>\n",
              "      <td>0</td>\n",
              "      <td>7</td>\n",
              "      <td>1</td>\n",
              "      <td>0</td>\n",
              "      <td>0</td>\n",
              "    </tr>\n",
              "    <tr>\n",
              "      <th>2</th>\n",
              "      <td>3</td>\n",
              "      <td>1807</td>\n",
              "      <td>1</td>\n",
              "      <td>2.8</td>\n",
              "      <td>0</td>\n",
              "      <td>1</td>\n",
              "      <td>0</td>\n",
              "      <td>27</td>\n",
              "      <td>0.9</td>\n",
              "      <td>186</td>\n",
              "      <td>...</td>\n",
              "      <td>4</td>\n",
              "      <td>1270</td>\n",
              "      <td>1366</td>\n",
              "      <td>2396</td>\n",
              "      <td>17</td>\n",
              "      <td>10</td>\n",
              "      <td>10</td>\n",
              "      <td>0</td>\n",
              "      <td>1</td>\n",
              "      <td>1</td>\n",
              "    </tr>\n",
              "    <tr>\n",
              "      <th>3</th>\n",
              "      <td>4</td>\n",
              "      <td>1546</td>\n",
              "      <td>0</td>\n",
              "      <td>0.5</td>\n",
              "      <td>1</td>\n",
              "      <td>18</td>\n",
              "      <td>1</td>\n",
              "      <td>25</td>\n",
              "      <td>0.5</td>\n",
              "      <td>96</td>\n",
              "      <td>...</td>\n",
              "      <td>20</td>\n",
              "      <td>295</td>\n",
              "      <td>1752</td>\n",
              "      <td>3893</td>\n",
              "      <td>10</td>\n",
              "      <td>0</td>\n",
              "      <td>7</td>\n",
              "      <td>1</td>\n",
              "      <td>1</td>\n",
              "      <td>0</td>\n",
              "    </tr>\n",
              "    <tr>\n",
              "      <th>4</th>\n",
              "      <td>5</td>\n",
              "      <td>1434</td>\n",
              "      <td>0</td>\n",
              "      <td>1.4</td>\n",
              "      <td>0</td>\n",
              "      <td>11</td>\n",
              "      <td>1</td>\n",
              "      <td>49</td>\n",
              "      <td>0.5</td>\n",
              "      <td>108</td>\n",
              "      <td>...</td>\n",
              "      <td>18</td>\n",
              "      <td>749</td>\n",
              "      <td>810</td>\n",
              "      <td>1773</td>\n",
              "      <td>15</td>\n",
              "      <td>8</td>\n",
              "      <td>7</td>\n",
              "      <td>1</td>\n",
              "      <td>0</td>\n",
              "      <td>1</td>\n",
              "    </tr>\n",
              "  </tbody>\n",
              "</table>\n",
              "<p>5 rows × 21 columns</p>\n",
              "</div>"
            ],
            "text/plain": [
              "   id  battery_power  blue  clock_speed  dual_sim  fc  four_g  int_memory  \\\n",
              "0   1           1043     1          1.8         1  14       0           5   \n",
              "1   2            841     1          0.5         1   4       1          61   \n",
              "2   3           1807     1          2.8         0   1       0          27   \n",
              "3   4           1546     0          0.5         1  18       1          25   \n",
              "4   5           1434     0          1.4         0  11       1          49   \n",
              "\n",
              "   m_dep  mobile_wt  ...   pc  px_height  px_width   ram  sc_h  sc_w  \\\n",
              "0    0.1        193  ...   16        226      1412  3476    12     7   \n",
              "1    0.8        191  ...   12        746       857  3895     6     0   \n",
              "2    0.9        186  ...    4       1270      1366  2396    17    10   \n",
              "3    0.5         96  ...   20        295      1752  3893    10     0   \n",
              "4    0.5        108  ...   18        749       810  1773    15     8   \n",
              "\n",
              "   talk_time  three_g  touch_screen  wifi  \n",
              "0          2        0             1     0  \n",
              "1          7        1             0     0  \n",
              "2         10        0             1     1  \n",
              "3          7        1             1     0  \n",
              "4          7        1             0     1  \n",
              "\n",
              "[5 rows x 21 columns]"
            ]
          },
          "metadata": {
            "tags": []
          },
          "execution_count": 164
        }
      ]
    },
    {
      "metadata": {
        "id": "KGfsGwGrX6SC",
        "colab_type": "code",
        "colab": {
          "base_uri": "https://localhost:8080/",
          "height": 537
        },
        "outputId": "d0862d71-fcda-454a-b5cb-b71fe15dce81"
      },
      "cell_type": "code",
      "source": [
        "data_test=data_test.drop('id',axis=1)"
      ],
      "execution_count": 180,
      "outputs": [
        {
          "output_type": "error",
          "ename": "ValueError",
          "evalue": "ignored",
          "traceback": [
            "\u001b[0;31m---------------------------------------------------------------------------\u001b[0m",
            "\u001b[0;31mValueError\u001b[0m                                Traceback (most recent call last)",
            "\u001b[0;32m<ipython-input-180-bd36a6c4123d>\u001b[0m in \u001b[0;36m<module>\u001b[0;34m()\u001b[0m\n\u001b[0;32m----> 1\u001b[0;31m \u001b[0mdata_test\u001b[0m\u001b[0;34m=\u001b[0m\u001b[0mdata_test\u001b[0m\u001b[0;34m.\u001b[0m\u001b[0mdrop\u001b[0m\u001b[0;34m(\u001b[0m\u001b[0;34m'id'\u001b[0m\u001b[0;34m,\u001b[0m\u001b[0maxis\u001b[0m\u001b[0;34m=\u001b[0m\u001b[0;36m1\u001b[0m\u001b[0;34m)\u001b[0m\u001b[0;34m\u001b[0m\u001b[0m\n\u001b[0m",
            "\u001b[0;32m/usr/local/lib/python3.6/dist-packages/pandas/core/generic.py\u001b[0m in \u001b[0;36mdrop\u001b[0;34m(self, labels, axis, index, columns, level, inplace, errors)\u001b[0m\n\u001b[1;32m   2528\u001b[0m         \u001b[0;32mfor\u001b[0m \u001b[0maxis\u001b[0m\u001b[0;34m,\u001b[0m \u001b[0mlabels\u001b[0m \u001b[0;32min\u001b[0m \u001b[0maxes\u001b[0m\u001b[0;34m.\u001b[0m\u001b[0mitems\u001b[0m\u001b[0;34m(\u001b[0m\u001b[0;34m)\u001b[0m\u001b[0;34m:\u001b[0m\u001b[0;34m\u001b[0m\u001b[0m\n\u001b[1;32m   2529\u001b[0m             \u001b[0;32mif\u001b[0m \u001b[0mlabels\u001b[0m \u001b[0;32mis\u001b[0m \u001b[0;32mnot\u001b[0m \u001b[0;32mNone\u001b[0m\u001b[0;34m:\u001b[0m\u001b[0;34m\u001b[0m\u001b[0m\n\u001b[0;32m-> 2530\u001b[0;31m                 \u001b[0mobj\u001b[0m \u001b[0;34m=\u001b[0m \u001b[0mobj\u001b[0m\u001b[0;34m.\u001b[0m\u001b[0m_drop_axis\u001b[0m\u001b[0;34m(\u001b[0m\u001b[0mlabels\u001b[0m\u001b[0;34m,\u001b[0m \u001b[0maxis\u001b[0m\u001b[0;34m,\u001b[0m \u001b[0mlevel\u001b[0m\u001b[0;34m=\u001b[0m\u001b[0mlevel\u001b[0m\u001b[0;34m,\u001b[0m \u001b[0merrors\u001b[0m\u001b[0;34m=\u001b[0m\u001b[0merrors\u001b[0m\u001b[0;34m)\u001b[0m\u001b[0;34m\u001b[0m\u001b[0m\n\u001b[0m\u001b[1;32m   2531\u001b[0m \u001b[0;34m\u001b[0m\u001b[0m\n\u001b[1;32m   2532\u001b[0m         \u001b[0;32mif\u001b[0m \u001b[0minplace\u001b[0m\u001b[0;34m:\u001b[0m\u001b[0;34m\u001b[0m\u001b[0m\n",
            "\u001b[0;32m/usr/local/lib/python3.6/dist-packages/pandas/core/generic.py\u001b[0m in \u001b[0;36m_drop_axis\u001b[0;34m(self, labels, axis, level, errors)\u001b[0m\n\u001b[1;32m   2560\u001b[0m                 \u001b[0mnew_axis\u001b[0m \u001b[0;34m=\u001b[0m \u001b[0maxis\u001b[0m\u001b[0;34m.\u001b[0m\u001b[0mdrop\u001b[0m\u001b[0;34m(\u001b[0m\u001b[0mlabels\u001b[0m\u001b[0;34m,\u001b[0m \u001b[0mlevel\u001b[0m\u001b[0;34m=\u001b[0m\u001b[0mlevel\u001b[0m\u001b[0;34m,\u001b[0m \u001b[0merrors\u001b[0m\u001b[0;34m=\u001b[0m\u001b[0merrors\u001b[0m\u001b[0;34m)\u001b[0m\u001b[0;34m\u001b[0m\u001b[0m\n\u001b[1;32m   2561\u001b[0m             \u001b[0;32melse\u001b[0m\u001b[0;34m:\u001b[0m\u001b[0;34m\u001b[0m\u001b[0m\n\u001b[0;32m-> 2562\u001b[0;31m                 \u001b[0mnew_axis\u001b[0m \u001b[0;34m=\u001b[0m \u001b[0maxis\u001b[0m\u001b[0;34m.\u001b[0m\u001b[0mdrop\u001b[0m\u001b[0;34m(\u001b[0m\u001b[0mlabels\u001b[0m\u001b[0;34m,\u001b[0m \u001b[0merrors\u001b[0m\u001b[0;34m=\u001b[0m\u001b[0merrors\u001b[0m\u001b[0;34m)\u001b[0m\u001b[0;34m\u001b[0m\u001b[0m\n\u001b[0m\u001b[1;32m   2563\u001b[0m             \u001b[0mdropped\u001b[0m \u001b[0;34m=\u001b[0m \u001b[0mself\u001b[0m\u001b[0;34m.\u001b[0m\u001b[0mreindex\u001b[0m\u001b[0;34m(\u001b[0m\u001b[0;34m**\u001b[0m\u001b[0;34m{\u001b[0m\u001b[0maxis_name\u001b[0m\u001b[0;34m:\u001b[0m \u001b[0mnew_axis\u001b[0m\u001b[0;34m}\u001b[0m\u001b[0;34m)\u001b[0m\u001b[0;34m\u001b[0m\u001b[0m\n\u001b[1;32m   2564\u001b[0m             \u001b[0;32mtry\u001b[0m\u001b[0;34m:\u001b[0m\u001b[0;34m\u001b[0m\u001b[0m\n",
            "\u001b[0;32m/usr/local/lib/python3.6/dist-packages/pandas/core/indexes/base.py\u001b[0m in \u001b[0;36mdrop\u001b[0;34m(self, labels, errors)\u001b[0m\n\u001b[1;32m   3742\u001b[0m             \u001b[0;32mif\u001b[0m \u001b[0merrors\u001b[0m \u001b[0;34m!=\u001b[0m \u001b[0;34m'ignore'\u001b[0m\u001b[0;34m:\u001b[0m\u001b[0;34m\u001b[0m\u001b[0m\n\u001b[1;32m   3743\u001b[0m                 raise ValueError('labels %s not contained in axis' %\n\u001b[0;32m-> 3744\u001b[0;31m                                  labels[mask])\n\u001b[0m\u001b[1;32m   3745\u001b[0m             \u001b[0mindexer\u001b[0m \u001b[0;34m=\u001b[0m \u001b[0mindexer\u001b[0m\u001b[0;34m[\u001b[0m\u001b[0;34m~\u001b[0m\u001b[0mmask\u001b[0m\u001b[0;34m]\u001b[0m\u001b[0;34m\u001b[0m\u001b[0m\n\u001b[1;32m   3746\u001b[0m         \u001b[0;32mreturn\u001b[0m \u001b[0mself\u001b[0m\u001b[0;34m.\u001b[0m\u001b[0mdelete\u001b[0m\u001b[0;34m(\u001b[0m\u001b[0mindexer\u001b[0m\u001b[0;34m)\u001b[0m\u001b[0;34m\u001b[0m\u001b[0m\n",
            "\u001b[0;31mValueError\u001b[0m: labels ['id'] not contained in axis"
          ]
        }
      ]
    },
    {
      "metadata": {
        "id": "mygflNN4YBsN",
        "colab_type": "code",
        "colab": {
          "base_uri": "https://localhost:8080/",
          "height": 195
        },
        "outputId": "f04d87f2-3da6-4545-c8ff-f3e9e5f4f28b"
      },
      "cell_type": "code",
      "source": [
        "data_test.head()"
      ],
      "execution_count": 179,
      "outputs": [
        {
          "output_type": "execute_result",
          "data": {
            "text/html": [
              "<div>\n",
              "<style scoped>\n",
              "    .dataframe tbody tr th:only-of-type {\n",
              "        vertical-align: middle;\n",
              "    }\n",
              "\n",
              "    .dataframe tbody tr th {\n",
              "        vertical-align: top;\n",
              "    }\n",
              "\n",
              "    .dataframe thead th {\n",
              "        text-align: right;\n",
              "    }\n",
              "</style>\n",
              "<table border=\"1\" class=\"dataframe\">\n",
              "  <thead>\n",
              "    <tr style=\"text-align: right;\">\n",
              "      <th></th>\n",
              "      <th>battery_power</th>\n",
              "      <th>blue</th>\n",
              "      <th>clock_speed</th>\n",
              "      <th>dual_sim</th>\n",
              "      <th>fc</th>\n",
              "      <th>four_g</th>\n",
              "      <th>int_memory</th>\n",
              "      <th>m_dep</th>\n",
              "      <th>mobile_wt</th>\n",
              "      <th>n_cores</th>\n",
              "      <th>pc</th>\n",
              "      <th>px_height</th>\n",
              "      <th>px_width</th>\n",
              "      <th>ram</th>\n",
              "      <th>sc_h</th>\n",
              "      <th>sc_w</th>\n",
              "      <th>talk_time</th>\n",
              "      <th>three_g</th>\n",
              "      <th>touch_screen</th>\n",
              "      <th>wifi</th>\n",
              "    </tr>\n",
              "  </thead>\n",
              "  <tbody>\n",
              "    <tr>\n",
              "      <th>0</th>\n",
              "      <td>1043</td>\n",
              "      <td>1</td>\n",
              "      <td>1.8</td>\n",
              "      <td>1</td>\n",
              "      <td>14</td>\n",
              "      <td>0</td>\n",
              "      <td>5</td>\n",
              "      <td>0.1</td>\n",
              "      <td>193</td>\n",
              "      <td>3</td>\n",
              "      <td>16</td>\n",
              "      <td>226</td>\n",
              "      <td>1412</td>\n",
              "      <td>3476</td>\n",
              "      <td>12</td>\n",
              "      <td>7</td>\n",
              "      <td>2</td>\n",
              "      <td>0</td>\n",
              "      <td>1</td>\n",
              "      <td>0</td>\n",
              "    </tr>\n",
              "    <tr>\n",
              "      <th>1</th>\n",
              "      <td>841</td>\n",
              "      <td>1</td>\n",
              "      <td>0.5</td>\n",
              "      <td>1</td>\n",
              "      <td>4</td>\n",
              "      <td>1</td>\n",
              "      <td>61</td>\n",
              "      <td>0.8</td>\n",
              "      <td>191</td>\n",
              "      <td>5</td>\n",
              "      <td>12</td>\n",
              "      <td>746</td>\n",
              "      <td>857</td>\n",
              "      <td>3895</td>\n",
              "      <td>6</td>\n",
              "      <td>0</td>\n",
              "      <td>7</td>\n",
              "      <td>1</td>\n",
              "      <td>0</td>\n",
              "      <td>0</td>\n",
              "    </tr>\n",
              "    <tr>\n",
              "      <th>2</th>\n",
              "      <td>1807</td>\n",
              "      <td>1</td>\n",
              "      <td>2.8</td>\n",
              "      <td>0</td>\n",
              "      <td>1</td>\n",
              "      <td>0</td>\n",
              "      <td>27</td>\n",
              "      <td>0.9</td>\n",
              "      <td>186</td>\n",
              "      <td>3</td>\n",
              "      <td>4</td>\n",
              "      <td>1270</td>\n",
              "      <td>1366</td>\n",
              "      <td>2396</td>\n",
              "      <td>17</td>\n",
              "      <td>10</td>\n",
              "      <td>10</td>\n",
              "      <td>0</td>\n",
              "      <td>1</td>\n",
              "      <td>1</td>\n",
              "    </tr>\n",
              "    <tr>\n",
              "      <th>3</th>\n",
              "      <td>1546</td>\n",
              "      <td>0</td>\n",
              "      <td>0.5</td>\n",
              "      <td>1</td>\n",
              "      <td>18</td>\n",
              "      <td>1</td>\n",
              "      <td>25</td>\n",
              "      <td>0.5</td>\n",
              "      <td>96</td>\n",
              "      <td>8</td>\n",
              "      <td>20</td>\n",
              "      <td>295</td>\n",
              "      <td>1752</td>\n",
              "      <td>3893</td>\n",
              "      <td>10</td>\n",
              "      <td>0</td>\n",
              "      <td>7</td>\n",
              "      <td>1</td>\n",
              "      <td>1</td>\n",
              "      <td>0</td>\n",
              "    </tr>\n",
              "    <tr>\n",
              "      <th>4</th>\n",
              "      <td>1434</td>\n",
              "      <td>0</td>\n",
              "      <td>1.4</td>\n",
              "      <td>0</td>\n",
              "      <td>11</td>\n",
              "      <td>1</td>\n",
              "      <td>49</td>\n",
              "      <td>0.5</td>\n",
              "      <td>108</td>\n",
              "      <td>6</td>\n",
              "      <td>18</td>\n",
              "      <td>749</td>\n",
              "      <td>810</td>\n",
              "      <td>1773</td>\n",
              "      <td>15</td>\n",
              "      <td>8</td>\n",
              "      <td>7</td>\n",
              "      <td>1</td>\n",
              "      <td>0</td>\n",
              "      <td>1</td>\n",
              "    </tr>\n",
              "  </tbody>\n",
              "</table>\n",
              "</div>"
            ],
            "text/plain": [
              "   battery_power  blue  clock_speed  dual_sim  fc  four_g  int_memory  m_dep  \\\n",
              "0           1043     1          1.8         1  14       0           5    0.1   \n",
              "1            841     1          0.5         1   4       1          61    0.8   \n",
              "2           1807     1          2.8         0   1       0          27    0.9   \n",
              "3           1546     0          0.5         1  18       1          25    0.5   \n",
              "4           1434     0          1.4         0  11       1          49    0.5   \n",
              "\n",
              "   mobile_wt  n_cores  pc  px_height  px_width   ram  sc_h  sc_w  talk_time  \\\n",
              "0        193        3  16        226      1412  3476    12     7          2   \n",
              "1        191        5  12        746       857  3895     6     0          7   \n",
              "2        186        3   4       1270      1366  2396    17    10         10   \n",
              "3         96        8  20        295      1752  3893    10     0          7   \n",
              "4        108        6  18        749       810  1773    15     8          7   \n",
              "\n",
              "   three_g  touch_screen  wifi  \n",
              "0        0             1     0  \n",
              "1        1             0     0  \n",
              "2        0             1     1  \n",
              "3        1             1     0  \n",
              "4        1             0     1  "
            ]
          },
          "metadata": {
            "tags": []
          },
          "execution_count": 179
        }
      ]
    },
    {
      "metadata": {
        "id": "JBkE2TSUSuXi",
        "colab_type": "code",
        "colab": {
          "base_uri": "https://localhost:8080/",
          "height": 783
        },
        "outputId": "37523e49-bd19-4e29-8623-e18380912c35"
      },
      "cell_type": "code",
      "source": [
        "predicted_price=clf.predict(data_test)"
      ],
      "execution_count": 181,
      "outputs": [
        {
          "output_type": "error",
          "ename": "ValueError",
          "evalue": "ignored",
          "traceback": [
            "\u001b[0;31m---------------------------------------------------------------------------\u001b[0m",
            "\u001b[0;31mValueError\u001b[0m                                Traceback (most recent call last)",
            "\u001b[0;32m<ipython-input-181-9c0cee021b01>\u001b[0m in \u001b[0;36m<module>\u001b[0;34m()\u001b[0m\n\u001b[0;32m----> 1\u001b[0;31m \u001b[0mpredicted_price\u001b[0m\u001b[0;34m=\u001b[0m\u001b[0mclf\u001b[0m\u001b[0;34m.\u001b[0m\u001b[0mpredict\u001b[0m\u001b[0;34m(\u001b[0m\u001b[0mdata_test\u001b[0m\u001b[0;34m)\u001b[0m\u001b[0;34m\u001b[0m\u001b[0m\n\u001b[0m",
            "\u001b[0;32m/usr/local/lib/python3.6/dist-packages/sklearn/utils/metaestimators.py\u001b[0m in \u001b[0;36m<lambda>\u001b[0;34m(*args, **kwargs)\u001b[0m\n\u001b[1;32m    113\u001b[0m \u001b[0;34m\u001b[0m\u001b[0m\n\u001b[1;32m    114\u001b[0m         \u001b[0;31m# lambda, but not partial, allows help() to work with update_wrapper\u001b[0m\u001b[0;34m\u001b[0m\u001b[0;34m\u001b[0m\u001b[0m\n\u001b[0;32m--> 115\u001b[0;31m         \u001b[0mout\u001b[0m \u001b[0;34m=\u001b[0m \u001b[0;32mlambda\u001b[0m \u001b[0;34m*\u001b[0m\u001b[0margs\u001b[0m\u001b[0;34m,\u001b[0m \u001b[0;34m**\u001b[0m\u001b[0mkwargs\u001b[0m\u001b[0;34m:\u001b[0m \u001b[0mself\u001b[0m\u001b[0;34m.\u001b[0m\u001b[0mfn\u001b[0m\u001b[0;34m(\u001b[0m\u001b[0mobj\u001b[0m\u001b[0;34m,\u001b[0m \u001b[0;34m*\u001b[0m\u001b[0margs\u001b[0m\u001b[0;34m,\u001b[0m \u001b[0;34m**\u001b[0m\u001b[0mkwargs\u001b[0m\u001b[0;34m)\u001b[0m\u001b[0;34m\u001b[0m\u001b[0m\n\u001b[0m\u001b[1;32m    116\u001b[0m         \u001b[0;31m# update the docstring of the returned function\u001b[0m\u001b[0;34m\u001b[0m\u001b[0;34m\u001b[0m\u001b[0m\n\u001b[1;32m    117\u001b[0m         \u001b[0mupdate_wrapper\u001b[0m\u001b[0;34m(\u001b[0m\u001b[0mout\u001b[0m\u001b[0;34m,\u001b[0m \u001b[0mself\u001b[0m\u001b[0;34m.\u001b[0m\u001b[0mfn\u001b[0m\u001b[0;34m)\u001b[0m\u001b[0;34m\u001b[0m\u001b[0m\n",
            "\u001b[0;32m/usr/local/lib/python3.6/dist-packages/sklearn/model_selection/_search.py\u001b[0m in \u001b[0;36mpredict\u001b[0;34m(self, X)\u001b[0m\n\u001b[1;32m    466\u001b[0m         \"\"\"\n\u001b[1;32m    467\u001b[0m         \u001b[0mself\u001b[0m\u001b[0;34m.\u001b[0m\u001b[0m_check_is_fitted\u001b[0m\u001b[0;34m(\u001b[0m\u001b[0;34m'predict'\u001b[0m\u001b[0;34m)\u001b[0m\u001b[0;34m\u001b[0m\u001b[0m\n\u001b[0;32m--> 468\u001b[0;31m         \u001b[0;32mreturn\u001b[0m \u001b[0mself\u001b[0m\u001b[0;34m.\u001b[0m\u001b[0mbest_estimator_\u001b[0m\u001b[0;34m.\u001b[0m\u001b[0mpredict\u001b[0m\u001b[0;34m(\u001b[0m\u001b[0mX\u001b[0m\u001b[0;34m)\u001b[0m\u001b[0;34m\u001b[0m\u001b[0m\n\u001b[0m\u001b[1;32m    469\u001b[0m \u001b[0;34m\u001b[0m\u001b[0m\n\u001b[1;32m    470\u001b[0m     \u001b[0;34m@\u001b[0m\u001b[0mif_delegate_has_method\u001b[0m\u001b[0;34m(\u001b[0m\u001b[0mdelegate\u001b[0m\u001b[0;34m=\u001b[0m\u001b[0;34m(\u001b[0m\u001b[0;34m'best_estimator_'\u001b[0m\u001b[0;34m,\u001b[0m \u001b[0;34m'estimator'\u001b[0m\u001b[0;34m)\u001b[0m\u001b[0;34m)\u001b[0m\u001b[0;34m\u001b[0m\u001b[0m\n",
            "\u001b[0;32m/usr/local/lib/python3.6/dist-packages/sklearn/svm/base.py\u001b[0m in \u001b[0;36mpredict\u001b[0;34m(self, X)\u001b[0m\n\u001b[1;32m    546\u001b[0m             \u001b[0mClass\u001b[0m \u001b[0mlabels\u001b[0m \u001b[0;32mfor\u001b[0m \u001b[0msamples\u001b[0m \u001b[0;32min\u001b[0m \u001b[0mX\u001b[0m\u001b[0;34m.\u001b[0m\u001b[0;34m\u001b[0m\u001b[0m\n\u001b[1;32m    547\u001b[0m         \"\"\"\n\u001b[0;32m--> 548\u001b[0;31m         \u001b[0my\u001b[0m \u001b[0;34m=\u001b[0m \u001b[0msuper\u001b[0m\u001b[0;34m(\u001b[0m\u001b[0mBaseSVC\u001b[0m\u001b[0;34m,\u001b[0m \u001b[0mself\u001b[0m\u001b[0;34m)\u001b[0m\u001b[0;34m.\u001b[0m\u001b[0mpredict\u001b[0m\u001b[0;34m(\u001b[0m\u001b[0mX\u001b[0m\u001b[0;34m)\u001b[0m\u001b[0;34m\u001b[0m\u001b[0m\n\u001b[0m\u001b[1;32m    549\u001b[0m         \u001b[0;32mreturn\u001b[0m \u001b[0mself\u001b[0m\u001b[0;34m.\u001b[0m\u001b[0mclasses_\u001b[0m\u001b[0;34m.\u001b[0m\u001b[0mtake\u001b[0m\u001b[0;34m(\u001b[0m\u001b[0mnp\u001b[0m\u001b[0;34m.\u001b[0m\u001b[0masarray\u001b[0m\u001b[0;34m(\u001b[0m\u001b[0my\u001b[0m\u001b[0;34m,\u001b[0m \u001b[0mdtype\u001b[0m\u001b[0;34m=\u001b[0m\u001b[0mnp\u001b[0m\u001b[0;34m.\u001b[0m\u001b[0mintp\u001b[0m\u001b[0;34m)\u001b[0m\u001b[0;34m)\u001b[0m\u001b[0;34m\u001b[0m\u001b[0m\n\u001b[1;32m    550\u001b[0m \u001b[0;34m\u001b[0m\u001b[0m\n",
            "\u001b[0;32m/usr/local/lib/python3.6/dist-packages/sklearn/svm/base.py\u001b[0m in \u001b[0;36mpredict\u001b[0;34m(self, X)\u001b[0m\n\u001b[1;32m    306\u001b[0m         \u001b[0my_pred\u001b[0m \u001b[0;34m:\u001b[0m \u001b[0marray\u001b[0m\u001b[0;34m,\u001b[0m \u001b[0mshape\u001b[0m \u001b[0;34m(\u001b[0m\u001b[0mn_samples\u001b[0m\u001b[0;34m,\u001b[0m\u001b[0;34m)\u001b[0m\u001b[0;34m\u001b[0m\u001b[0m\n\u001b[1;32m    307\u001b[0m         \"\"\"\n\u001b[0;32m--> 308\u001b[0;31m         \u001b[0mX\u001b[0m \u001b[0;34m=\u001b[0m \u001b[0mself\u001b[0m\u001b[0;34m.\u001b[0m\u001b[0m_validate_for_predict\u001b[0m\u001b[0;34m(\u001b[0m\u001b[0mX\u001b[0m\u001b[0;34m)\u001b[0m\u001b[0;34m\u001b[0m\u001b[0m\n\u001b[0m\u001b[1;32m    309\u001b[0m         \u001b[0mpredict\u001b[0m \u001b[0;34m=\u001b[0m \u001b[0mself\u001b[0m\u001b[0;34m.\u001b[0m\u001b[0m_sparse_predict\u001b[0m \u001b[0;32mif\u001b[0m \u001b[0mself\u001b[0m\u001b[0;34m.\u001b[0m\u001b[0m_sparse\u001b[0m \u001b[0;32melse\u001b[0m \u001b[0mself\u001b[0m\u001b[0;34m.\u001b[0m\u001b[0m_dense_predict\u001b[0m\u001b[0;34m\u001b[0m\u001b[0m\n\u001b[1;32m    310\u001b[0m         \u001b[0;32mreturn\u001b[0m \u001b[0mpredict\u001b[0m\u001b[0;34m(\u001b[0m\u001b[0mX\u001b[0m\u001b[0;34m)\u001b[0m\u001b[0;34m\u001b[0m\u001b[0m\n",
            "\u001b[0;32m/usr/local/lib/python3.6/dist-packages/sklearn/svm/base.py\u001b[0m in \u001b[0;36m_validate_for_predict\u001b[0;34m(self, X)\u001b[0m\n\u001b[1;32m    457\u001b[0m             raise ValueError(\"X.shape[1] = %d should be equal to %d, \"\n\u001b[1;32m    458\u001b[0m                              \u001b[0;34m\"the number of features at training time\"\u001b[0m \u001b[0;34m%\u001b[0m\u001b[0;34m\u001b[0m\u001b[0m\n\u001b[0;32m--> 459\u001b[0;31m                              (n_features, self.shape_fit_[1]))\n\u001b[0m\u001b[1;32m    460\u001b[0m         \u001b[0;32mreturn\u001b[0m \u001b[0mX\u001b[0m\u001b[0;34m\u001b[0m\u001b[0m\n\u001b[1;32m    461\u001b[0m \u001b[0;34m\u001b[0m\u001b[0m\n",
            "\u001b[0;31mValueError\u001b[0m: X.shape[1] = 20 should be equal to 19, the number of features at training time"
          ]
        }
      ]
    },
    {
      "metadata": {
        "id": "LsITclKcZ3y5",
        "colab_type": "code",
        "colab": {}
      },
      "cell_type": "code",
      "source": [
        "submission = pd.DataFrame(predicted_price)"
      ],
      "execution_count": 0,
      "outputs": []
    },
    {
      "metadata": {
        "id": "iLpqQMyEZ4-W",
        "colab_type": "code",
        "colab": {
          "base_uri": "https://localhost:8080/",
          "height": 195
        },
        "outputId": "b91626b7-fe5f-42ba-b929-282be3c8aedc"
      },
      "cell_type": "code",
      "source": [
        "submission.head()"
      ],
      "execution_count": 183,
      "outputs": [
        {
          "output_type": "execute_result",
          "data": {
            "text/html": [
              "<div>\n",
              "<style scoped>\n",
              "    .dataframe tbody tr th:only-of-type {\n",
              "        vertical-align: middle;\n",
              "    }\n",
              "\n",
              "    .dataframe tbody tr th {\n",
              "        vertical-align: top;\n",
              "    }\n",
              "\n",
              "    .dataframe thead th {\n",
              "        text-align: right;\n",
              "    }\n",
              "</style>\n",
              "<table border=\"1\" class=\"dataframe\">\n",
              "  <thead>\n",
              "    <tr style=\"text-align: right;\">\n",
              "      <th></th>\n",
              "      <th>0</th>\n",
              "    </tr>\n",
              "  </thead>\n",
              "  <tbody>\n",
              "    <tr>\n",
              "      <th>0</th>\n",
              "      <td>3</td>\n",
              "    </tr>\n",
              "    <tr>\n",
              "      <th>1</th>\n",
              "      <td>3</td>\n",
              "    </tr>\n",
              "    <tr>\n",
              "      <th>2</th>\n",
              "      <td>3</td>\n",
              "    </tr>\n",
              "    <tr>\n",
              "      <th>3</th>\n",
              "      <td>3</td>\n",
              "    </tr>\n",
              "    <tr>\n",
              "      <th>4</th>\n",
              "      <td>3</td>\n",
              "    </tr>\n",
              "  </tbody>\n",
              "</table>\n",
              "</div>"
            ],
            "text/plain": [
              "   0\n",
              "0  3\n",
              "1  3\n",
              "2  3\n",
              "3  3\n",
              "4  3"
            ]
          },
          "metadata": {
            "tags": []
          },
          "execution_count": 183
        }
      ]
    },
    {
      "metadata": {
        "id": "etZUqroraeAr",
        "colab_type": "code",
        "colab": {}
      },
      "cell_type": "code",
      "source": [
        "submission.to_csv('result.csv')"
      ],
      "execution_count": 0,
      "outputs": []
    },
    {
      "metadata": {
        "id": "eio1QjujahhE",
        "colab_type": "code",
        "colab": {}
      },
      "cell_type": "code",
      "source": [
        "files.download('result.csv')"
      ],
      "execution_count": 0,
      "outputs": []
    }
  ]
}